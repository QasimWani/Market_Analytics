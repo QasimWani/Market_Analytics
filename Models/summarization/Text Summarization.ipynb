{
 "cells": [
  {
   "cell_type": "code",
   "execution_count": 164,
   "metadata": {},
   "outputs": [],
   "source": [
    "### This is text summarization.\n",
    "### Objective, to summarize an article and make sense off of it."
   ]
  },
  {
   "cell_type": "code",
   "execution_count": 203,
   "metadata": {},
   "outputs": [],
   "source": [
    "from nltk.corpus import stopwords\n",
    "import re"
   ]
  },
  {
   "cell_type": "code",
   "execution_count": 204,
   "metadata": {},
   "outputs": [],
   "source": [
    "STOPWORDS = set(stopwords.words('english'))\n",
    "STOPWORDS.add(\"-\")"
   ]
  },
  {
   "cell_type": "code",
   "execution_count": 222,
   "metadata": {},
   "outputs": [],
   "source": [
    "TESLA_TEXT = \"\"\"Tesla (TSLA) - Get Report priced its $2 billion stock offering at a 21% discount to the stock's recent all-time high in a move that seeks to capitalize on a rally that's added nearly 50% to the company's market value over the past month. \n",
    "\n",
    "Tesla plans to sell 2.65 million shares at $767 each, the company said in a Securities and Exchange Commission filing, raising around $2.03 billion in total proceeds. The price is a 4.6% discount to Thursday's closing price, which valued the clean-energy carmaker at $145.8 billion, and is around 21% lower than the stock's record high of $968.98 it hit last week.\n",
    "\n",
    "Tesla had said Thursday it will use the cash to shore up its balance sheet, as well as for 'general corporate purposes\", adding that founder and CEO Elon Musk will take up around $10 million worth of stock from the sale. Board member Larry Ellison, as well, plans to purchase $1 million from the deal, while the underwriting team, lead by Goldman Sachs (GS) - Get Report, will have the option to buy an additional 397,500 shares at a $9.0189 discount to the $767 sale price.\n",
    "\n",
    "Tesla shares were marked 1% lower in early trading Friday following the pricing details,to changes hands at $796.16  each. \n",
    "\n",
    "Musk told investors on Tesla's Q4 earnings call on January 29 that Tesla was \"spending money I think efficiently and we're not artificially limiting our progress. And then despite all that we are still generating positive cash.\"\n",
    "\n",
    "\"So in light of that, it doesn't make sense to raise money because we expect to generate cash despite this growth level,\" he added. \"Diluting the company to pay down debt doesn't sound like a wise move.\"\n",
    "\n",
    "Tesla shares, however, rose from $567 to a record high $968.98 each following the group's fourth quarter earnings, which rose 10.9% from the same period last year to $2.06 per share, smashing the Street consensus forecast of $1.75. Group revenues also impressed, rising 2.1% to $7.38 billion and edged past analysts' estimates of a 7.05 billion tally.\n",
    "\n",
    "Execution has been a major part of Tesla's recent surge, with the Palo Alto, California-based carmaker topping he lower end of Wall Street forecasts for 2019 deliveries with a full-year tally of 367,500 units, lead by the sale of 92,500 Model 3s over the three months ending in December.\n",
    "\n",
    "\"We are not surprised by the capital raise considering co.'s ambitious growth plans, including a new factory in Germany and possible factory in Texas, in light of the stock's run-up and the fact it issued equity last May at $243/share,\" said Garrett Nelson, senior equity analyst at CFRA Research, who carries a \"sell\" rating on Tesla stock.\n",
    "\n",
    "\"Recent speed bumps including a coronavirus-related delay in vehicle deliveries from its new China factory and Model X recall likely factored into management's decision to proceed with the offering. Tesla also filed its 10-K today, in which it disclosed that it expects capex to average $2.5 billion to $3.5 billion annually in the 2020-22 period, up from prior guidance in its last 10-Q of $2.0 billion to $2.25 billion in the 2020-21 period, which should equate to weaker free cash flow than it has generated in recent quarters.\" \n",
    "\"\"\".lower().replace(\". \", \" qwertyuiop\")\n",
    "\n",
    "TESLA_TEXT = re.sub('[^a-zA-Z]', ' ', TESLA_TEXT )\n",
    "TESLA_TEXT = re.sub(r'\\s+', ' ', TESLA_TEXT)\n",
    "TESLA_TEXT = TESLA_TEXT.split(\" qwertyuiop\")"
   ]
  },
  {
   "cell_type": "code",
   "execution_count": 224,
   "metadata": {},
   "outputs": [
    {
     "data": {
      "text/plain": [
       "['tesla tsla get report priced its billion stock offering at a discount to the stock s recent all time high in a move that seeks to capitalize on a rally that s added nearly to the company s market value over the past month',\n",
       " ' tesla plans to sell million shares at each the company said in a securities and exchange commission filing raising around billion in total proceeds',\n",
       " 'the price is a discount to thursday s closing price which valued the clean energy carmaker at billion and is around lower than the stock s record high of it hit last week tesla had said thursday it will use the cash to shore up its balance sheet as well as for general corporate purposes adding that founder and ceo elon musk will take up around million worth of stock from the sale',\n",
       " 'board member larry ellison as well plans to purchase million from the deal while the underwriting team lead by goldman sachs gs get report will have the option to buy an additional shares at a discount to the sale price tesla shares were marked lower in early trading friday following the pricing details to changes hands at each',\n",
       " ' musk told investors on tesla s q earnings call on january that tesla was spending money i think efficiently and we re not artificially limiting our progress',\n",
       " 'and then despite all that we are still generating positive cash so in light of that it doesn t make sense to raise money because we expect to generate cash despite this growth level he added',\n",
       " ' diluting the company to pay down debt doesn t sound like a wise move tesla shares however rose from to a record high each following the group s fourth quarter earnings which rose from the same period last year to per share smashing the street consensus forecast of',\n",
       " 'group revenues also impressed rising to billion and edged past analysts estimates of a billion tally execution has been a major part of tesla s recent surge with the palo alto california based carmaker topping he lower end of wall street forecasts for deliveries with a full year tally of units lead by the sale of model s over the three months ending in december we are not surprised by the capital raise considering co s ambitious growth plans including a new factory in germany and possible factory in texas in light of the stock s run up and the fact it issued equity last may at share said garrett nelson senior equity analyst at cfra research who carries a sell rating on tesla stock recent speed bumps including a coronavirus related delay in vehicle deliveries from its new china factory and model x recall likely factored into management s decision to proceed with the offering',\n",
       " 'tesla also filed its k today in which it disclosed that it expects capex to average billion to billion annually in the period up from prior guidance in its last q of billion to billion in the period which should equate to weaker free cash flow than it has generated in recent quarters ']"
      ]
     },
     "execution_count": 224,
     "metadata": {},
     "output_type": "execute_result"
    }
   ],
   "source": [
    "TESLA_TEXT"
   ]
  },
  {
   "cell_type": "code",
   "execution_count": 208,
   "metadata": {},
   "outputs": [
    {
     "ename": "TypeError",
     "evalue": "'str' object does not support item assignment",
     "output_type": "error",
     "traceback": [
      "\u001b[1;31m---------------------------------------------------------------------------\u001b[0m",
      "\u001b[1;31mTypeError\u001b[0m                                 Traceback (most recent call last)",
      "\u001b[1;32m<ipython-input-208-1d673ce0fb51>\u001b[0m in \u001b[0;36m<module>\u001b[1;34m\u001b[0m\n\u001b[0;32m      1\u001b[0m \u001b[1;32mfor\u001b[0m \u001b[0mc\u001b[0m\u001b[1;33m,\u001b[0m\u001b[0mtext\u001b[0m \u001b[1;32min\u001b[0m \u001b[0menumerate\u001b[0m\u001b[1;33m(\u001b[0m\u001b[0mTESLA_TEXT\u001b[0m\u001b[1;33m)\u001b[0m\u001b[1;33m:\u001b[0m\u001b[1;33m\u001b[0m\u001b[1;33m\u001b[0m\u001b[0m\n\u001b[1;32m----> 2\u001b[1;33m     \u001b[0mTESLA_TEXT\u001b[0m\u001b[1;33m[\u001b[0m\u001b[0mc\u001b[0m\u001b[1;33m]\u001b[0m \u001b[1;33m=\u001b[0m \u001b[1;34m' '\u001b[0m\u001b[1;33m.\u001b[0m\u001b[0mjoin\u001b[0m\u001b[1;33m(\u001b[0m\u001b[1;33m[\u001b[0m\u001b[0mword\u001b[0m \u001b[1;32mfor\u001b[0m \u001b[0mword\u001b[0m \u001b[1;32min\u001b[0m \u001b[0mtext\u001b[0m\u001b[1;33m.\u001b[0m\u001b[0msplit\u001b[0m\u001b[1;33m(\u001b[0m\u001b[1;33m)\u001b[0m \u001b[1;32mif\u001b[0m \u001b[0mword\u001b[0m \u001b[1;32mnot\u001b[0m \u001b[1;32min\u001b[0m \u001b[0mSTOPWORDS\u001b[0m\u001b[1;33m]\u001b[0m\u001b[1;33m)\u001b[0m\u001b[1;33m\u001b[0m\u001b[1;33m\u001b[0m\u001b[0m\n\u001b[0m",
      "\u001b[1;31mTypeError\u001b[0m: 'str' object does not support item assignment"
     ]
    }
   ],
   "source": [
    "for c,text in enumerate(TESLA_TEXT):\n",
    "    TESLA_TEXT[c] = ' '.join([word for word in text.split() if word not in STOPWORDS])"
   ]
  },
  {
   "cell_type": "code",
   "execution_count": 192,
   "metadata": {},
   "outputs": [],
   "source": [
    "## Sentence basic regex parsing done..."
   ]
  },
  {
   "cell_type": "code",
   "execution_count": 200,
   "metadata": {},
   "outputs": [],
   "source": [
    "word_frequencies = {}\n",
    "for word in nltk.word_tokenize(TESLA_TEXT[0]):\n",
    "    if word not in word_frequencies.keys():\n",
    "        word_frequencies[word] = 1\n",
    "    else:\n",
    "        word_frequencies[word] += 1"
   ]
  },
  {
   "cell_type": "code",
   "execution_count": 201,
   "metadata": {},
   "outputs": [
    {
     "data": {
      "text/plain": [
       "{}"
      ]
     },
     "execution_count": 201,
     "metadata": {},
     "output_type": "execute_result"
    }
   ],
   "source": [
    "word_frequencies"
   ]
  },
  {
   "cell_type": "code",
   "execution_count": 189,
   "metadata": {},
   "outputs": [
    {
     "data": {
      "text/plain": [
       "{'-',\n",
       " 'a',\n",
       " 'about',\n",
       " 'above',\n",
       " 'after',\n",
       " 'again',\n",
       " 'against',\n",
       " 'ain',\n",
       " 'all',\n",
       " 'am',\n",
       " 'an',\n",
       " 'and',\n",
       " 'any',\n",
       " 'are',\n",
       " 'aren',\n",
       " \"aren't\",\n",
       " 'as',\n",
       " 'at',\n",
       " 'be',\n",
       " 'because',\n",
       " 'been',\n",
       " 'before',\n",
       " 'being',\n",
       " 'below',\n",
       " 'between',\n",
       " 'both',\n",
       " 'but',\n",
       " 'by',\n",
       " 'can',\n",
       " 'couldn',\n",
       " \"couldn't\",\n",
       " 'd',\n",
       " 'did',\n",
       " 'didn',\n",
       " \"didn't\",\n",
       " 'do',\n",
       " 'does',\n",
       " 'doesn',\n",
       " \"doesn't\",\n",
       " 'doing',\n",
       " 'don',\n",
       " \"don't\",\n",
       " 'down',\n",
       " 'during',\n",
       " 'each',\n",
       " 'few',\n",
       " 'for',\n",
       " 'from',\n",
       " 'further',\n",
       " 'had',\n",
       " 'hadn',\n",
       " \"hadn't\",\n",
       " 'has',\n",
       " 'hasn',\n",
       " \"hasn't\",\n",
       " 'have',\n",
       " 'haven',\n",
       " \"haven't\",\n",
       " 'having',\n",
       " 'he',\n",
       " 'her',\n",
       " 'here',\n",
       " 'hers',\n",
       " 'herself',\n",
       " 'him',\n",
       " 'himself',\n",
       " 'his',\n",
       " 'how',\n",
       " 'i',\n",
       " 'if',\n",
       " 'in',\n",
       " 'into',\n",
       " 'is',\n",
       " 'isn',\n",
       " \"isn't\",\n",
       " 'it',\n",
       " \"it's\",\n",
       " 'its',\n",
       " 'itself',\n",
       " 'just',\n",
       " 'll',\n",
       " 'm',\n",
       " 'ma',\n",
       " 'me',\n",
       " 'mightn',\n",
       " \"mightn't\",\n",
       " 'more',\n",
       " 'most',\n",
       " 'mustn',\n",
       " \"mustn't\",\n",
       " 'my',\n",
       " 'myself',\n",
       " 'needn',\n",
       " \"needn't\",\n",
       " 'no',\n",
       " 'nor',\n",
       " 'not',\n",
       " 'now',\n",
       " 'o',\n",
       " 'of',\n",
       " 'off',\n",
       " 'on',\n",
       " 'once',\n",
       " 'only',\n",
       " 'or',\n",
       " 'other',\n",
       " 'our',\n",
       " 'ours',\n",
       " 'ourselves',\n",
       " 'out',\n",
       " 'over',\n",
       " 'own',\n",
       " 're',\n",
       " 's',\n",
       " 'same',\n",
       " 'shan',\n",
       " \"shan't\",\n",
       " 'she',\n",
       " \"she's\",\n",
       " 'should',\n",
       " \"should've\",\n",
       " 'shouldn',\n",
       " \"shouldn't\",\n",
       " 'so',\n",
       " 'some',\n",
       " 'such',\n",
       " 't',\n",
       " 'than',\n",
       " 'that',\n",
       " \"that'll\",\n",
       " 'the',\n",
       " 'their',\n",
       " 'theirs',\n",
       " 'them',\n",
       " 'themselves',\n",
       " 'then',\n",
       " 'there',\n",
       " 'these',\n",
       " 'they',\n",
       " 'this',\n",
       " 'those',\n",
       " 'through',\n",
       " 'to',\n",
       " 'too',\n",
       " 'under',\n",
       " 'until',\n",
       " 'up',\n",
       " 've',\n",
       " 'very',\n",
       " 'was',\n",
       " 'wasn',\n",
       " \"wasn't\",\n",
       " 'we',\n",
       " 'were',\n",
       " 'weren',\n",
       " \"weren't\",\n",
       " 'what',\n",
       " 'when',\n",
       " 'where',\n",
       " 'which',\n",
       " 'while',\n",
       " 'who',\n",
       " 'whom',\n",
       " 'why',\n",
       " 'will',\n",
       " 'with',\n",
       " 'won',\n",
       " \"won't\",\n",
       " 'wouldn',\n",
       " \"wouldn't\",\n",
       " 'y',\n",
       " 'you',\n",
       " \"you'd\",\n",
       " \"you'll\",\n",
       " \"you're\",\n",
       " \"you've\",\n",
       " 'your',\n",
       " 'yours',\n",
       " 'yourself',\n",
       " 'yourselves'}"
      ]
     },
     "execution_count": 189,
     "metadata": {},
     "output_type": "execute_result"
    }
   ],
   "source": [
    "STOPWORDS"
   ]
  },
  {
   "cell_type": "code",
   "execution_count": null,
   "metadata": {},
   "outputs": [],
   "source": []
  }
 ],
 "metadata": {
  "kernelspec": {
   "display_name": "Python 3",
   "language": "python",
   "name": "python3"
  },
  "language_info": {
   "codemirror_mode": {
    "name": "ipython",
    "version": 3
   },
   "file_extension": ".py",
   "mimetype": "text/x-python",
   "name": "python",
   "nbconvert_exporter": "python",
   "pygments_lexer": "ipython3",
   "version": "3.7.3"
  }
 },
 "nbformat": 4,
 "nbformat_minor": 2
}
