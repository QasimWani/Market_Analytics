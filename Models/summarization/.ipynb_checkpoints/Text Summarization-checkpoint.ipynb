{
 "cells": [
  {
   "cell_type": "code",
   "execution_count": 1,
   "metadata": {},
   "outputs": [],
   "source": [
    "### This is text summarization.\n",
    "### Objective, to summarize an article and make sense off of it."
   ]
  },
  {
   "cell_type": "code",
   "execution_count": 2,
   "metadata": {},
   "outputs": [],
   "source": [
    "from nltk.corpus import stopwords\n",
    "import nltk\n",
    "import re\n",
    "import collections"
   ]
  },
  {
   "cell_type": "code",
   "execution_count": 3,
   "metadata": {},
   "outputs": [],
   "source": [
    "def calculate_sentence_frequency(sentence, average_sentence_word_count):\n",
    "    \"\"\"\n",
    "    Calculates the weighted frequency of a single sentence.\n",
    "    Parameters:\n",
    "    1. sentence. A string containing multiple words.\n",
    "    Returns : word_frequencies (type = dict) list of words and associative weights.\n",
    "    \"\"\"\n",
    "    word_frequencies = {}\n",
    "    if len(sentence.split(\" \")) < average_sentence_word_count:\n",
    "        for word in nltk.word_tokenize(sentence):\n",
    "            if word not in word_frequencies.keys():\n",
    "                word_frequencies[word] = 1\n",
    "            else:\n",
    "                word_frequencies[word] += 1\n",
    "        max_word_frequency = max(word_frequencies.values()) if len(word_frequencies.values()) > 0 else 1\n",
    "        for word in word_frequencies.keys():\n",
    "            word_frequencies[word] /= max_word_frequency\n",
    "    return word_frequencies"
   ]
  },
  {
   "cell_type": "code",
   "execution_count": 4,
   "metadata": {},
   "outputs": [],
   "source": [
    "def get_text_weighted_score(paragraph, average_word_count):\n",
    "    \"\"\"\n",
    "    Generates the weighted score of the entire text.\n",
    "    Uses calculate_sentence_frequency(paragraph[i]).\n",
    "    Parameters:\n",
    "    1. paragraph. A list of sentences.\n",
    "    Returns:\n",
    "    1. sentence_scores (type = dict) list of sentence and associative weights.\n",
    "    \"\"\"\n",
    "    sentence_scores = {}\n",
    "    for i, sent in enumerate(paragraph):\n",
    "        word_frequencies = calculate_sentence_frequency(paragraph[i], average_word_count)\n",
    "        for word in word_frequencies.keys():\n",
    "            if sent not in sentence_scores.keys():\n",
    "                sentence_scores[sent] =  word_frequencies[word]\n",
    "            else:\n",
    "                sentence_scores[sent] += word_frequencies[word]\n",
    "    return sentence_scores"
   ]
  },
  {
   "cell_type": "code",
   "execution_count": 5,
   "metadata": {},
   "outputs": [],
   "source": [
    "def main():\n",
    "    STOPWORDS = set(stopwords.words('english'))\n",
    "    STOPWORDS.add(\"-\")\n",
    "    \n",
    "    ORIGINAL_TEXT = \"\"\"\n",
    "Israel claims a breakthrough in the development of lasers that can be used to intercept mortar shells, UAVs and rockets. While testing under combat conditions won’t take place until mid-2020, the government thought that the new technology was innovative and effective enough in preliminary tests to announce.\n",
    "\n",
    "Laser systems like this have been in development elsewhere for a long time, but so far no one has been able to develop a laser with the range and destructive power to perform like the new Israeli system. This new weapon is already being called “Laser Dome” because it would complement the existing Iron Dome system that uses missiles and an innovative radar/software system that ignores ballistic, rockets or mortar shell whose trajectory would mean hitting unoccupied land where there will be no injuries or serious damage. Most objects fired at Israel end up landing in unoccupied areas and the few objects that are dangerous are intercepted by missiles. This has proved very effective.\n",
    "\n",
    "Laser Dome is described as using a solid-state electric laser at an effective range of 5,000 meters. This costs “several dollars’ worth of electricity“ per shot. A diesel generator capacitor system could fire once every few seconds for as long as power was available. Laser Dome combines multiple laser beams to obtain a useful amount of laser power at longer ranges. Fire control systems for quickly, accurately and repeatedly aiming a laser have already been developed. The main problem has effective burn (laser bean-created heat) at longer ranges to do enough damage to bring down or destroy the incoming warhead.\n",
    "\n",
    "Israel believes Laser Dome has sufficient burn power but realistic tests are needed to prove it. If Laser Dome works, several individual systems could operate with each Iron Dome battery to take down targets the laser can reach rather than use the $60,000 missiles. Iron Dome takes care of longer-range targets. This would make Iron Dome a lot cheaper to operate and more effective against mass attacks when dozens of rockets are fired at the same target in a short time.\n",
    "\n",
    "Some of the tech Laser Dome uses has already been used in other laser weapons. The best example of this is the U.S. Army CLWS (Compact Laser Weapon System) which is currently only capable of handling UAVs. CLWS is a laser weapon light enough (2.2 tons) to mount on helicopters or hummers and can destroy small UAVs up to 2,000 meters away, while it can disable or destroy the sensors (vidcams) on a UAV up to 7,000 meters away. The CLWS fire control system will automatically track and keep the laser firing on a selected target. It can take up to 15 seconds of laser fire to bring down a UAV or destroy its camera. This is the tech that Laser Dome claims to have improved enough to destroy UAVs with one shot and at longer ranges.\n",
    "\n",
    "Another example is a U.S. Navy system already installed on one warship for several years and about to be installed on several more. In 2013 the navy announced that it had developed a laser technology capable of being useful in combat. This was not a sudden development but has been going on for most of the last decade. In 2010 the navy successfully tested this new laser weapon, which is actually six solid-state lasers acting in unison, to destroy a small UAV. That was the seventh time the navy laser had destroyed a UAV. But the LaWS (Laser Weapon System) was not yet powerful enough to do this at the range, and power level, required to cripple the most dangerous targets; missiles and small boats. The manufacturer convinced the navy that it was just a matter of tweaking the technology to get the needed effectiveness. In 2013 another test was run, under more realistic conditions. LaWS worked, knocking down a larger UAV at a longer range. At that point, the navy said it planned to install the system in a warship within the year for even more realistic testing. Those tests took place in 2014 and were successful enough to install LaWS on at least one warship to be used to deliver warnings (at low power) while at full strength (30 kilowatts)\n",
    "\n",
    "The LaWS laser cannon was mounted on a KINETO Tracking Mount, which is similar, but larger (and more accurate), than the mount used by the Phalanx CIWS (Close-In Weapons System). The navy laser weapon tests used the radar and tracking system of the CIWS. Back in 2009 CIWS was upgraded so that its sensors could detect speedboats, small aircraft, and naval mines. This was crucial because knocking down UAVs is not something that the navy needs help with. But the ability to do enough damage to disable boats or missiles that are over two kilometers distant meant the LaWS was worth mounting on a warship.\n",
    "\n",
    "LaWS may yet prove incapable of working under combat conditions, but so far this new development has kept passing tests. These included disabling a ScanEagel UAV, destroying an RPG rocket and burning out the outboard engine of a speed boat. LaWAS also proved useful in detecting small boats or aerial objects at night and in bad weather. LaWAS worked despite mist and light sand storms. But in heaver sand storms performance was much reduced. In 2018 LaWAS was moved to a large amphibious ship for continued testing and two more LaWAS are being built, for delivery and installation on two more ships in 2020. The manufacturer continues to work on extending the range and increasing damage inflicted on targets. LaWAS uses less than a dollars’ worth of power use and is supplied by a diesel generator separate from the ship power supply. In other words, LaWAS is still a work in progress.\n",
    "\n",
    "Such was not the case with an earlier research effort using chemical lasers. In 2011 the U.S. Department of Defense halted work on the U.S. Air Force ALT (Airborne Laser Testbed). The project was put into storage until such time as more effective technology is available to revive the effort, or it is decided that the ALT is not worth the storage expense. ALT cost over $5 billion during its 16 years of development. It never worked, at least not in a practical sense. In 2010, for the second time in a row, the ALT failed in an attempt to use its laser to destroy a ballistic missile. That time, the problem was with the radar and fire control system, which failed to lock the laser onto the actual missile (although the radar did detect the actual missile launch). In the past, the main problem has been a lack of power to drive the laser to lethal levels. Because of that, the ALT program has been an expensive near-miss for nearly two decades. In 2009 ALT was demoted from a system in development to a research program. The reason for this was all about energy supply. Even if ALT worked flawlessly it did not have enough energy to hit a launching missile from a safe (from enemy fire) distance. ALT needed more than twenty times as much energy than it had and it was believed it would be a while before that problem was solved.\n",
    "\n",
    "Back in 2003 developers of combat lasers were more optimistic. In 2005 manufacturers of combat lasers believed these weapons were only a few years away from battlefield use. To that end, Northrop-Grumman set up a new division to develop and build battle lasers. This optimism was generated by two successful tests in 2006. In one a solid-state laser shot down a mortar round. In another, a much more powerful chemical laser hit a missile type target. Neither of these tests led to any useable weapons, and the combat laser remains the \"weapon of the future.\" The basic problems are reliability and ammo (power to generate the laser).\n",
    "\n",
    "Solid-state lasers have been around since the 1950s, and chemical lasers first appeared in the 1970s. The chemical laser has the advantage of using a chemical reaction to create the megawatt level of energy for a laser that can penetrate the body of a ballistic missile that is still rising in the air hundreds of kilometers away. The chemical reaction uses atomized liquid hydrogen peroxide and potassium hydroxide and chlorine gas to form an ionized form of oxygen known as singlet delta oxygen (SDO). This, in turn, is rapidly mixed with molecular iodine gas to form ionized iodine gas. At that point, the ionized iodine gas rapidly returns to its resting state and while doing so releases photons pulsing at the right frequency to create the laser light. These photons are channeled by mirrors and sent on their way to the target, which is being tracked and pinpointed by other lasers. The airborne laser weighs about six tons. It can be carried in a C-130H, producing a laser powerful enough to hit airborne or ground targets fifteen kilometers away. The laser exits via a targeting turret under the nose of the aircraft. The laser beam is invisible to the human eye. The chemicals are mixed at high speeds and the byproducts are harmless heat, potassium salt, water, and oxygen. A similar laser, flying in a larger aircraft (B-747 based ALT) was supposed to have enough range to knock down ballistic missiles as they took off. But the ALT never developed sufficient range to be an effective weapon.\n",
    "\n",
    "Nearly half a century of engineering work has produced thousands of improvements, and a few breakthroughs, in making the lasers more powerful, accurate, and lethal. More efficient energy storage has made it possible to use lighter, shorter range, ground-based lasers effective against smaller targets like mortar shells and short-range rockets. Northrop's 2005 move was an indication that the company felt confident enough to gamble its own money, instead of what they get for government research contracts, to produce useful laser weapons. A larger high energy airborne laser would not only be useful against ballistic missiles but enemy aircraft and space satellites would also be at risk. But companies like Northrop and Boeing are still trying to produce ground and airborne lasers that can successfully operate under combat conditions. The big problem with anti-missile airborne lasers has always been the power supply. A lot of chemicals are needed to generate sufficient power for a laser that can reach out for hundreds of kilometers and do sufficient damage to a ballistic missile. To be effective the airborne laser needs sufficient power to get off several shots. So far, no one has been able to produce such a weapon. Shorter range solid-state lasers need lots of electricity. This is difficult for aircraft or ground troops but not for properly equipped ships. That's why these lasers remain \"the weapon of the future\" and will probably remain so for a while.\n",
    "\n",
    "LaWS seems to be going in the same direction as Laser Dome with similar but less effective tech. The Israeli laser system is light enough to be mounted in warplanes or large UAVs. Hopes are once more high that Laser Dome will prove that the long-awaited future tech has finally arrived. Believe it when you see it.\n",
    "\"\"\"\n",
    "    \n",
    "    TESLA_TEXT = ORIGINAL_TEXT.lower().replace(\". \", \" qwertyuiop\")\n",
    "    TESLA_TEXT = re.sub('[^a-zA-Z]', ' ', TESLA_TEXT )\n",
    "    TESLA_TEXT = re.sub(r'\\s+', ' ', TESLA_TEXT)\n",
    "    TESLA_TEXT = TESLA_TEXT.split(\" qwertyuiop\")\n",
    "\n",
    "    average_sentence_word_count = len(TESLA_TEXT)\n",
    "    sum_word_count = 0\n",
    "    for c,text in enumerate(TESLA_TEXT):\n",
    "        TESLA_TEXT[c] = ' '.join([word for word in text.split() if word not in STOPWORDS])\n",
    "        sum_word_count += len(TESLA_TEXT[c].split(\" \"))\n",
    "\n",
    "    average_sentence_word_count = sum_word_count / average_sentence_word_count\n",
    "    \n",
    "    sentence_scores = get_text_weighted_score(TESLA_TEXT, average_sentence_word_count)\n",
    "    original_dict = {}\n",
    "    ORIGINAL_TEXT = ORIGINAL_TEXT.split(\". \")\n",
    "    for i, sentences in enumerate(sentence_scores.items()):\n",
    "        original_dict[ORIGINAL_TEXT[i]] = sentences[1]\n",
    "    sorted_sentences = sorted(original_dict.items(), key=lambda x: x[1], reverse=True)\n",
    "    return sorted_sentences"
   ]
  },
  {
   "cell_type": "code",
   "execution_count": 6,
   "metadata": {},
   "outputs": [],
   "source": [
    "if __name__ == \"__main__\":\n",
    "    sorted_sentences = main()\n",
    "    final_list = []\n",
    "    for i, s in enumerate(sorted_sentences):\n",
    "        final_list.append(s[0])"
   ]
  },
  {
   "cell_type": "code",
   "execution_count": 7,
   "metadata": {},
   "outputs": [
    {
     "data": {
      "text/plain": [
       "['It probably has a name, because it earned itself semi-human status after you forgot to water it during last year’s 34-degree summer heat and it still managed to thrive',\n",
       " '“It’s a pretty cool textile,” says Amanda Johnston, who, together with the expo’s founder, Nina Marenzi, curated the vast array of fabrics on offer',\n",
       " 'For at the Future Fabrics Expo in London this week, cactus leather was just one of an array of new, ethical, man-made fibres on display',\n",
       " 'Veganism has just exploded so that’s transcending into the materials we are seeing be developed, too.”\\n\\nRead more: Could You Give Up Buying Clothes In 2020?\\n\\n\\nCactus, pineapple and apple leather on show at the Future Fabrics Expo.\\n\\n© Paul Cochrane, 2020\\n\\nImage may contain: Plant, Human, Person, Fruit, Food, and Pineapple\\nEstablished in 2010, the Future Fabrics Expo is the Selfridges of sustainable textiles, an edited selection of the best offerings on the market today',\n",
       " 'The event is a one-stop shop for environmentally conscious designers, and – with the fashion industry being one of the most polluting on the planet – it’s now more relevant than ever.\\n\\nAs a result, I’m happy to report that when I went to London’s Victoria House to attend the three-day event, it was buzzing',\n",
       " 'The expo, organised by The Sustainable Angle, a not-for-profit organisation that initiates and supports sustainable projects within the fashion and related industries, acts as a hub for fashion designers, fabric sourcers and students seeking out sustainable fibres across the global market',\n",
       " '“We’ve also got apple leather, grape leather, pineapple leather',\n",
       " '“Because unless the designer understands why this fabric is more environmentally friendly, or why it has far less impact, they are not going to understand why they need to initiate change.”\\n\\n© Paul Cochrane, 2020\\n\\nImage may contain: Human, Person, Clothing, Apparel, and Airport\\nSustainability is a hot topic in fashion today, with the industry in a constant state of flux as luxury and high-street brands attempt to implement better practice, from fabric choices such as organic cotton to supply chains and manufacturing conditions',\n",
       " 'Panel talks and seminars arranged with partner Parley for the Oceans and its founder Cyrill Gutsch – who has worked with Stella McCartney and Adidas – offered engaging in-depth discussions about recycling textiles and how fashion could have a positive impact on the ocean',\n",
       " 'Meanwhile, rails stuffed to the brim with fabrics were a hive of activity, with representatives from British luxury brands including Wales Bonner, Molly Goddard and Mother of Pearl all sifting through the options, clamouring over the thousands of materials on offer.\\n\\n© Paul Cochrane, 2020\\n\\nImage may contain: Clothing, Apparel, Sleeve, Long Sleeve, Gown, Robe, Fashion, Evening Dress, and Blouse\\nFrom lab-made silks to fabric made from charcoal and vegan wools – the latter crafted from the calotropis plant, a medicinal weed that grows in abundance in desert-like lands – each hanger was accompanied by a blurb which detailed the sustainable credentials of every piece of cloth',\n",
       " '“We spend a huge amount of time and research on those little blurbs,” says Marenzi',\n",
       " 'That verdant green plant covered in tiny prickles is likely nestled within a chic ceramic plant pot',\n",
       " 'It doesn’t die on you like other house plants often do',\n",
       " 'This cactus is your friend.\\n\\nNow consider wearing it',\n",
       " '\\nConsider the cactus on your shelf',\n",
       " '“We’re seeing a plethora of really amazing leather alternatives; this area is a honeypot of growth,” Johnston continues']"
      ]
     },
     "execution_count": 7,
     "metadata": {},
     "output_type": "execute_result"
    }
   ],
   "source": [
    "final_list"
   ]
  },
  {
   "cell_type": "code",
   "execution_count": null,
   "metadata": {},
   "outputs": [],
   "source": []
  },
  {
   "cell_type": "code",
   "execution_count": null,
   "metadata": {},
   "outputs": [],
   "source": []
  },
  {
   "cell_type": "code",
   "execution_count": null,
   "metadata": {},
   "outputs": [],
   "source": []
  },
  {
   "cell_type": "code",
   "execution_count": null,
   "metadata": {},
   "outputs": [],
   "source": []
  },
  {
   "cell_type": "code",
   "execution_count": null,
   "metadata": {},
   "outputs": [],
   "source": []
  }
 ],
 "metadata": {
  "kernelspec": {
   "display_name": "Python 3",
   "language": "python",
   "name": "python3"
  },
  "language_info": {
   "codemirror_mode": {
    "name": "ipython",
    "version": 3
   },
   "file_extension": ".py",
   "mimetype": "text/x-python",
   "name": "python",
   "nbconvert_exporter": "python",
   "pygments_lexer": "ipython3",
   "version": "3.7.3"
  }
 },
 "nbformat": 4,
 "nbformat_minor": 2
}
