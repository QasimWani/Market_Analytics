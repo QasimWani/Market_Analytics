{
 "cells": [
  {
   "cell_type": "code",
   "execution_count": 1,
   "metadata": {},
   "outputs": [],
   "source": [
    "### This is text summarization.\n",
    "### Objective, to summarize an article and make sense off of it."
   ]
  },
  {
   "cell_type": "code",
   "execution_count": 2,
   "metadata": {},
   "outputs": [],
   "source": [
    "from nltk.corpus import stopwords\n",
    "import nltk\n",
    "import re\n",
    "import collections"
   ]
  },
  {
   "cell_type": "code",
   "execution_count": 3,
   "metadata": {},
   "outputs": [],
   "source": [
    "STOPWORDS = set(stopwords.words('english'))\n",
    "STOPWORDS.add(\"-\")"
   ]
  },
  {
   "cell_type": "code",
   "execution_count": 4,
   "metadata": {},
   "outputs": [],
   "source": [
    "ORIGINAL_TEXT = \"\"\"Tesla (TSLA) - Get Report priced its $2 billion stock offering at a 21% discount to the stock's recent all-time high in a move that seeks to capitalize on a rally that's added nearly 50% to the company's market value over the past month. \n",
    "\n",
    "Tesla plans to sell 2.65 million shares at $767 each, the company said in a Securities and Exchange Commission filing, raising around $2.03 billion in total proceeds. The price is a 4.6% discount to Thursday's closing price, which valued the clean-energy carmaker at $145.8 billion, and is around 21% lower than the stock's record high of $968.98 it hit last week.\n",
    "\n",
    "Tesla had said Thursday it will use the cash to shore up its balance sheet, as well as for 'general corporate purposes\", adding that founder and CEO Elon Musk will take up around $10 million worth of stock from the sale. Board member Larry Ellison, as well, plans to purchase $1 million from the deal, while the underwriting team, lead by Goldman Sachs (GS) - Get Report, will have the option to buy an additional 397,500 shares at a $9.0189 discount to the $767 sale price.\n",
    "\n",
    "Tesla shares were marked 1% lower in early trading Friday following the pricing details,to changes hands at $796.16  each. \n",
    "\n",
    "Musk told investors on Tesla's Q4 earnings call on January 29 that Tesla was \"spending money I think efficiently and we're not artificially limiting our progress. And then despite all that we are still generating positive cash.\"\n",
    "\n",
    "\"So in light of that, it doesn't make sense to raise money because we expect to generate cash despite this growth level,\" he added. \"Diluting the company to pay down debt doesn't sound like a wise move.\"\n",
    "\n",
    "Tesla shares, however, rose from $567 to a record high $968.98 each following the group's fourth quarter earnings, which rose 10.9% from the same period last year to $2.06 per share, smashing the Street consensus forecast of $1.75. Group revenues also impressed, rising 2.1% to $7.38 billion and edged past analysts' estimates of a 7.05 billion tally.\n",
    "\n",
    "Execution has been a major part of Tesla's recent surge, with the Palo Alto, California-based carmaker topping he lower end of Wall Street forecasts for 2019 deliveries with a full-year tally of 367,500 units, lead by the sale of 92,500 Model 3s over the three months ending in December.\n",
    "\n",
    "\"We are not surprised by the capital raise considering co.'s ambitious growth plans, including a new factory in Germany and possible factory in Texas, in light of the stock's run-up and the fact it issued equity last May at $243/share,\" said Garrett Nelson, senior equity analyst at CFRA Research, who carries a \"sell\" rating on Tesla stock.\n",
    "\n",
    "\"Recent speed bumps including a coronavirus-related delay in vehicle deliveries from its new China factory and Model X recall likely factored into management's decision to proceed with the offering. Tesla also filed its 10-K today, in which it disclosed that it expects capex to average $2.5 billion to $3.5 billion annually in the 2020-22 period, up from prior guidance in its last 10-Q of $2.0 billion to $2.25 billion in the 2020-21 period, which should equate to weaker free cash flow than it has generated in recent quarters.\" \n",
    "\"\"\""
   ]
  },
  {
   "cell_type": "code",
   "execution_count": 5,
   "metadata": {},
   "outputs": [],
   "source": [
    "TESLA_TEXT = ORIGINAL_TEXT.lower().replace(\". \", \" qwertyuiop\")\n",
    "\n",
    "TESLA_TEXT = re.sub('[^a-zA-Z]', ' ', TESLA_TEXT )\n",
    "TESLA_TEXT = re.sub(r'\\s+', ' ', TESLA_TEXT)\n",
    "TESLA_TEXT = TESLA_TEXT.split(\" qwertyuiop\")\n"
   ]
  },
  {
   "cell_type": "code",
   "execution_count": 17,
   "metadata": {},
   "outputs": [],
   "source": [
    "average_sentence_word_count = len(TESLA_TEXT)\n",
    "indices = []"
   ]
  },
  {
   "cell_type": "code",
   "execution_count": 7,
   "metadata": {},
   "outputs": [],
   "source": [
    "sum_word_count = 0\n",
    "for c,text in enumerate(TESLA_TEXT):\n",
    "    TESLA_TEXT[c] = ' '.join([word for word in text.split() if word not in STOPWORDS])\n",
    "    sum_word_count += len(TESLA_TEXT[c].split(\" \"))"
   ]
  },
  {
   "cell_type": "code",
   "execution_count": 8,
   "metadata": {},
   "outputs": [],
   "source": [
    "average_sentence_word_count = sum_word_count / average_sentence_word_count"
   ]
  },
  {
   "cell_type": "code",
   "execution_count": null,
   "metadata": {},
   "outputs": [],
   "source": []
  },
  {
   "cell_type": "code",
   "execution_count": 9,
   "metadata": {},
   "outputs": [],
   "source": [
    "## Sentence basic regex parsing done..."
   ]
  },
  {
   "cell_type": "code",
   "execution_count": 10,
   "metadata": {},
   "outputs": [],
   "source": [
    "def calculate_sentence_frequency(sentence):\n",
    "    \"\"\"\n",
    "    Calculates the weighted frequency of a single sentence.\n",
    "    Parameters:\n",
    "    1. sentence. A string containing multiple words.\n",
    "    Returns : word_frequencies (type = dict) list of words and associative weights.\n",
    "    \"\"\"\n",
    "    word_frequencies = {}\n",
    "    if len(sentence.split(\" \")) < average_sentence_word_count:\n",
    "        for word in nltk.word_tokenize(sentence):\n",
    "            if word not in word_frequencies.keys():\n",
    "                word_frequencies[word] = 1\n",
    "            else:\n",
    "                word_frequencies[word] += 1\n",
    "        max_word_frequency = max(word_frequencies.values())   \n",
    "        for word in word_frequencies.keys():\n",
    "            word_frequencies[word] /= max_word_frequency\n",
    "    return word_frequencies"
   ]
  },
  {
   "cell_type": "code",
   "execution_count": 11,
   "metadata": {},
   "outputs": [],
   "source": [
    "def get_text_weighted_score(paragraph):\n",
    "    \"\"\"\n",
    "    Generates the weighted score of the entire text.\n",
    "    Uses calculate_sentence_frequency(paragraph[i]).\n",
    "    Parameters:\n",
    "    1. paragraph. A list of sentences.\n",
    "    Returns:\n",
    "    1. sentence_scores (type = dict) list of sentence and associative weights.\n",
    "    \"\"\"\n",
    "    sentence_scores = {}\n",
    "    for i, sent in enumerate(paragraph):\n",
    "        word_frequencies = calculate_sentence_frequency(paragraph[i])\n",
    "        for word in word_frequencies.keys():\n",
    "            if sent not in sentence_scores.keys():\n",
    "                sentence_scores[sent] =  word_frequencies[word]\n",
    "            else:\n",
    "                sentence_scores[sent] += word_frequencies[word]\n",
    "        indices.append(i)\n",
    "    return sentence_scores"
   ]
  },
  {
   "cell_type": "code",
   "execution_count": 12,
   "metadata": {},
   "outputs": [],
   "source": [
    "sentence_scores = get_text_weighted_score(TESLA_TEXT)"
   ]
  },
  {
   "cell_type": "code",
   "execution_count": 13,
   "metadata": {},
   "outputs": [],
   "source": [
    "original_dict = {}\n",
    "ORIGINAL_TEXT = ORIGINAL_TEXT.split(\". \")\n",
    "for i, sentences in enumerate(sentence_scores.items()):\n",
    "    original_dict[ORIGINAL_TEXT[i]] = sentences[1]"
   ]
  },
  {
   "cell_type": "code",
   "execution_count": null,
   "metadata": {},
   "outputs": [],
   "source": []
  },
  {
   "cell_type": "code",
   "execution_count": 15,
   "metadata": {},
   "outputs": [],
   "source": [
    "sorted_sentences = sorted(original_dict.items(), key=lambda x: x[1], reverse=True)"
   ]
  },
  {
   "cell_type": "code",
   "execution_count": 21,
   "metadata": {},
   "outputs": [
    {
     "data": {
      "text/plain": [
       "{'tesla': 0.5,\n",
       " 'tsla': 0.5,\n",
       " 'get': 0.5,\n",
       " 'report': 0.5,\n",
       " 'priced': 0.5,\n",
       " 'billion': 0.5,\n",
       " 'stock': 1.0,\n",
       " 'offering': 0.5,\n",
       " 'discount': 0.5,\n",
       " 'recent': 0.5,\n",
       " 'time': 0.5,\n",
       " 'high': 0.5,\n",
       " 'move': 0.5,\n",
       " 'seeks': 0.5,\n",
       " 'capitalize': 0.5,\n",
       " 'rally': 0.5,\n",
       " 'added': 0.5,\n",
       " 'nearly': 0.5,\n",
       " 'company': 0.5,\n",
       " 'market': 0.5,\n",
       " 'value': 0.5,\n",
       " 'past': 0.5,\n",
       " 'month': 0.5}"
      ]
     },
     "execution_count": 21,
     "metadata": {},
     "output_type": "execute_result"
    }
   ],
   "source": [
    "word_frequencies"
   ]
  },
  {
   "cell_type": "code",
   "execution_count": 16,
   "metadata": {},
   "outputs": [
    {
     "data": {
      "text/plain": [
       "[('The price is a 4.6% discount to Thursday\\'s closing price, which valued the clean-energy carmaker at $145.8 billion, and is around 21% lower than the stock\\'s record high of $968.98 it hit last week.\\n\\nTesla had said Thursday it will use the cash to shore up its balance sheet, as well as for \\'general corporate purposes\", adding that founder and CEO Elon Musk will take up around $10 million worth of stock from the sale',\n",
       "  18.0),\n",
       " ('\\n\\nTesla plans to sell 2.65 million shares at $767 each, the company said in a Securities and Exchange Commission filing, raising around $2.03 billion in total proceeds',\n",
       "  16.0),\n",
       " ('And then despite all that we are still generating positive cash.\"\\n\\n\"So in light of that, it doesn\\'t make sense to raise money because we expect to generate cash despite this growth level,\" he added',\n",
       "  14.5),\n",
       " (\"Tesla (TSLA) - Get Report priced its $2 billion stock offering at a 21% discount to the stock's recent all-time high in a move that seeks to capitalize on a rally that's added nearly 50% to the company's market value over the past month\",\n",
       "  12.0),\n",
       " ('\\n\\nMusk told investors on Tesla\\'s Q4 earnings call on January 29 that Tesla was \"spending money I think efficiently and we\\'re not artificially limiting our progress',\n",
       "  8.5),\n",
       " ('Board member Larry Ellison, as well, plans to purchase $1 million from the deal, while the underwriting team, lead by Goldman Sachs (GS) - Get Report, will have the option to buy an additional 397,500 shares at a $9.0189 discount to the $767 sale price.\\n\\nTesla shares were marked 1% lower in early trading Friday following the pricing details,to changes hands at $796.16  each',\n",
       "  8.0),\n",
       " ('\"Diluting the company to pay down debt doesn\\'t sound like a wise move.\"\\n\\nTesla shares, however, rose from $567 to a record high $968.98 each following the group\\'s fourth quarter earnings, which rose 10.9% from the same period last year to $2.06 per share, smashing the Street consensus forecast of $1.75',\n",
       "  7.0)]"
      ]
     },
     "execution_count": 16,
     "metadata": {},
     "output_type": "execute_result"
    }
   ],
   "source": [
    "sorted_sentences"
   ]
  },
  {
   "cell_type": "code",
   "execution_count": null,
   "metadata": {},
   "outputs": [],
   "source": []
  }
 ],
 "metadata": {
  "kernelspec": {
   "display_name": "Python 3",
   "language": "python",
   "name": "python3"
  },
  "language_info": {
   "codemirror_mode": {
    "name": "ipython",
    "version": 3
   },
   "file_extension": ".py",
   "mimetype": "text/x-python",
   "name": "python",
   "nbconvert_exporter": "python",
   "pygments_lexer": "ipython3",
   "version": "3.7.3"
  }
 },
 "nbformat": 4,
 "nbformat_minor": 2
}
