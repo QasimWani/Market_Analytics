{
 "cells": [
  {
   "cell_type": "code",
   "execution_count": 1,
   "metadata": {},
   "outputs": [],
   "source": [
    "### This is text summarization.\n",
    "### Objective, to summarize an article and make sense off of it."
   ]
  },
  {
   "cell_type": "code",
   "execution_count": 2,
   "metadata": {},
   "outputs": [],
   "source": [
    "from nltk.corpus import stopwords\n",
    "import nltk\n",
    "import re\n",
    "import collections"
   ]
  },
  {
   "cell_type": "code",
   "execution_count": 3,
   "metadata": {},
   "outputs": [],
   "source": [
    "def calculate_sentence_frequency(sentence, average_sentence_word_count):\n",
    "    \"\"\"\n",
    "    Calculates the weighted frequency of a single sentence.\n",
    "    Parameters:\n",
    "    1. sentence. A string containing multiple words.\n",
    "    Returns : word_frequencies (type = dict) list of words and associative weights.\n",
    "    \"\"\"\n",
    "    word_frequencies = {}\n",
    "    if len(sentence.split(\" \")) < average_sentence_word_count:\n",
    "        for word in nltk.word_tokenize(sentence):\n",
    "            if word not in word_frequencies.keys():\n",
    "                word_frequencies[word] = 1\n",
    "            else:\n",
    "                word_frequencies[word] += 1\n",
    "        max_word_frequency = max(word_frequencies.values()) if len(word_frequencies.values()) > 0 else 1\n",
    "        for word in word_frequencies.keys():\n",
    "            word_frequencies[word] /= max_word_frequency\n",
    "    return word_frequencies"
   ]
  },
  {
   "cell_type": "code",
   "execution_count": 4,
   "metadata": {},
   "outputs": [],
   "source": [
    "def get_text_weighted_score(paragraph, average_word_count):\n",
    "    \"\"\"\n",
    "    Generates the weighted score of the entire text.\n",
    "    Uses calculate_sentence_frequency(paragraph[i]).\n",
    "    Parameters:\n",
    "    1. paragraph. A list of sentences.\n",
    "    Returns:\n",
    "    1. sentence_scores (type = dict) list of sentence and associative weights.\n",
    "    \"\"\"\n",
    "    sentence_scores = {}\n",
    "    for i, sent in enumerate(paragraph):\n",
    "        word_frequencies = calculate_sentence_frequency(paragraph[i], average_word_count)\n",
    "        for word in word_frequencies.keys():\n",
    "            if sent not in sentence_scores.keys():\n",
    "                sentence_scores[sent] =  word_frequencies[word]\n",
    "            else:\n",
    "                sentence_scores[sent] += word_frequencies[word]\n",
    "    return sentence_scores"
   ]
  },
  {
   "cell_type": "code",
   "execution_count": 5,
   "metadata": {},
   "outputs": [],
   "source": [
    "def main():\n",
    "    STOPWORDS = set(stopwords.words('english'))\n",
    "    STOPWORDS.add(\"-\")\n",
    "    \n",
    "    ORIGINAL_TEXT = \"\"\"\n",
    "French startup BlaBlaCar has announced that the company’s revenue grew by 71 percent in 2019 compared to 2018. The big difference between 2019 and 2018 is that BlaBlaCar diversified its activity by offering bus rides as well as bus ticketing in some markets.\n",
    "BlaBlaCar is still mostly known for its long-distance ride-sharing marketplace. If you’re going from one city to another, you can find a car with an empty seat and book a ride in that car. On the other side of the marketplace, if you plan on driving across the country, you can list your ride on the platform to find passengers so that you don’t have to pay for gas and highway tolls by yourself.\n",
    "In November 2018, the company acquired Ouibus to become a marketplace for road travel, whether it’s by bus or by car. Ouibus is now called BlaBlaBus. BlaBlaCar also offers a carpooling marketplace for daily commutes between your home and your workplace called BlaBlaLines.\n",
    "BlaBlaBus covers 400 cities in Europe while BlaBlaLines has managed to attract 1.5 million users.\n",
    "The bottom line is that BlaBlaCar has built a huge community. The company now has 87 million users, with 17 million people signing up in 2019 alone. BlaBlaCar carried 70 million passengers across all its services last year.\n",
    "In France, the long-distance carpooling service reached a record of 135,000 passengers in a single day. I’d bet that the railway company strike may have helped.\n",
    "When it comes to the company itself, BlaBlaCar has hired a Chief Operating Officer, Béatrice Dumurgier. While BlaBlaCar faced some growing pains a couple of years ago, the company now plans to expand its team again by doubling the size of its engineering team in 2020.\n",
    "\"\"\"\n",
    "    \n",
    "    TESLA_TEXT = ORIGINAL_TEXT.lower().replace(\". \", \" qwertyuiop\")\n",
    "    TESLA_TEXT = re.sub('[^a-zA-Z]', ' ', TESLA_TEXT )\n",
    "    TESLA_TEXT = re.sub(r'\\s+', ' ', TESLA_TEXT)\n",
    "    TESLA_TEXT = TESLA_TEXT.split(\" qwertyuiop\")\n",
    "\n",
    "    average_sentence_word_count = len(TESLA_TEXT)\n",
    "    sum_word_count = 0\n",
    "    for c,text in enumerate(TESLA_TEXT):\n",
    "        TESLA_TEXT[c] = ' '.join([word for word in text.split() if word not in STOPWORDS])\n",
    "        sum_word_count += len(TESLA_TEXT[c].split(\" \"))\n",
    "\n",
    "    average_sentence_word_count = sum_word_count / average_sentence_word_count\n",
    "    \n",
    "    sentence_scores = get_text_weighted_score(TESLA_TEXT, average_sentence_word_count)\n",
    "    original_dict = {}\n",
    "    ORIGINAL_TEXT = ORIGINAL_TEXT.split(\". \")\n",
    "    for i, sentences in enumerate(sentence_scores.items()):\n",
    "        original_dict[ORIGINAL_TEXT[i]] = sentences[1]\n",
    "    sorted_sentences = sorted(original_dict.items(), key=lambda x: x[1], reverse=True)\n",
    "    return sorted_sentences"
   ]
  },
  {
   "cell_type": "code",
   "execution_count": 6,
   "metadata": {},
   "outputs": [],
   "source": [
    "if __name__ == \"__main__\":\n",
    "    sorted_sentences = main()\n",
    "    final_list = []\n",
    "    for i, s in enumerate(sorted_sentences):\n",
    "        final_list.append(s[0])"
   ]
  },
  {
   "cell_type": "code",
   "execution_count": 7,
   "metadata": {},
   "outputs": [
    {
     "data": {
      "text/plain": [
       "['With experience designing his previous apps and extensive help from the APEX Entrepreneurship Center, Wani decided to develop an app, HitchHiqe, to aid students’ search for long distance carpooling rides to and from Blacksburg',\n",
       " 'Wani spent around 1,500 hours working on HitchHiqe in which he said, “There were a lot of challenges when you’re building something from just an idea on a white board … and sometimes it feels like it doesn’t work',\n",
       " 'Wani first came into contact with APEX at its kickstarter event in 2018 in which he struck up a conversation with a presenter about the possibilities of virtual reality',\n",
       " '“The algorithms include screening for drivers so not anyone can be a driver for HitchHiqe unless they have a registered vehicle,” Wani said',\n",
       " ' \\nProduction and app development began in May of 2019',\n",
       " 'It was here that Wani started on the path of app development that eventually guided him toward his most recent app, HitchHiqe',\n",
       " 'The app saves students around 20 to 30 minutes in the process',\n",
       " 'The response at MIT was overwhelmingly positive',\n",
       " '“In order to register in HitchHiqe, you need to have an ‘edu’ account (as well).” \\nThere are also safety concerns about the Facebook group that the creation of the app hopes to address.\\n “We actually got an email from one of the moderators from the VT parent’s group who said Facebook isn’t very secure for our kids, and we would like to endorse you (on our) platform,” Wani said, explaining the positive results of the app’s safety precautions',\n",
       " '\\nWani also received aid after pitching his idea at Hackathon at MIT last semester',\n",
       " 'He can also attribute some of his success to Virginia Tech’s APEX Center and its help with funding and marketing',\n",
       " 'A couple of the features from HitchHiqe have come from their work at MIT and with Watson AI, a computer system developed by IBM capable of answering questions using AI and other analytical software',\n",
       " 'He received a Facebook notification from fellow Hokie Sai Gurrapu early on in HitchHiqe’s production in which Gurrapu expressed interest in helping Wani develop the app',\n",
       " 'They then sent the beta version to Facebook and other companies to receive feedback regarding the app.\\nThey eventually equipped this efficient system with precautions designed to ensure the safety of Virginia Tech student drivers and passengers',\n",
       " '“We talked to one of the people there, and we have been in touch with them ever since; they have been really helpful,” Wani said',\n",
       " ' Sometimes I feel like I’m too young to just do it all by myself, but you find a way out.” \\nWani, however, hasn’t spent this entire process completely alone',\n",
       " 'Wani built the beta version of HitchHiqe in just three weeks',\n",
       " '\\nAfter tirelessly scrolling through Virginia Tech’s carpooling Facebook group in search of a ride home, Qasim Wani, a sophomore majoring in computer engineering, realized just how inefficient this 20-30 minute process truly was',\n",
       " ' \\nThe app is designed to sort through the most relevant carpooling offers on Facebook and collect them on one platform so that Virginia Tech students can find rides home without having to go through every single Facebook post and message multiple people']"
      ]
     },
     "execution_count": 7,
     "metadata": {},
     "output_type": "execute_result"
    }
   ],
   "source": [
    "final_list"
   ]
  },
  {
   "cell_type": "code",
   "execution_count": null,
   "metadata": {},
   "outputs": [],
   "source": []
  },
  {
   "cell_type": "code",
   "execution_count": null,
   "metadata": {},
   "outputs": [],
   "source": []
  },
  {
   "cell_type": "code",
   "execution_count": null,
   "metadata": {},
   "outputs": [],
   "source": []
  },
  {
   "cell_type": "code",
   "execution_count": null,
   "metadata": {},
   "outputs": [],
   "source": []
  },
  {
   "cell_type": "code",
   "execution_count": null,
   "metadata": {},
   "outputs": [],
   "source": []
  }
 ],
 "metadata": {
  "kernelspec": {
   "display_name": "Python 3",
   "language": "python",
   "name": "python3"
  },
  "language_info": {
   "codemirror_mode": {
    "name": "ipython",
    "version": 3
   },
   "file_extension": ".py",
   "mimetype": "text/x-python",
   "name": "python",
   "nbconvert_exporter": "python",
   "pygments_lexer": "ipython3",
   "version": "3.7.3"
  }
 },
 "nbformat": 4,
 "nbformat_minor": 2
}
