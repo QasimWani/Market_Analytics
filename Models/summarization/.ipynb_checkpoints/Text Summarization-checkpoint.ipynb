{
 "cells": [
  {
   "cell_type": "code",
   "execution_count": 1,
   "metadata": {},
   "outputs": [],
   "source": [
    "### This is text summarization.\n",
    "### Objective, to summarize an article and make sense off of it."
   ]
  },
  {
   "cell_type": "code",
   "execution_count": 104,
   "metadata": {},
   "outputs": [],
   "source": [
    "from nltk.corpus import stopwords\n",
    "import re"
   ]
  },
  {
   "cell_type": "code",
   "execution_count": 105,
   "metadata": {},
   "outputs": [],
   "source": [
    "STOPWORDS = set(stopwords.words('english'))"
   ]
  },
  {
   "cell_type": "code",
   "execution_count": 146,
   "metadata": {},
   "outputs": [],
   "source": [
    "TESLA_TEXT = \"\"\"Tesla (TSLA) - Get Report priced its $2 billion stock offering at a 21% discount to the stock's recent all-time high in a move that seeks to capitalize on a rally that's added nearly 50% to the company's market value over the past month. \n",
    "\n",
    "Tesla plans to sell 2.65 million shares at $767 each, the company said in a Securities and Exchange Commission filing, raising around $2.03 billion in total proceeds. The price is a 4.6% discount to Thursday's closing price, which valued the clean-energy carmaker at $145.8 billion, and is around 21% lower than the stock's record high of $968.98 it hit last week.\n",
    "\n",
    "Tesla had said Thursday it will use the cash to shore up its balance sheet, as well as for 'general corporate purposes\", adding that founder and CEO Elon Musk will take up around $10 million worth of stock from the sale. Board member Larry Ellison, as well, plans to purchase $1 million from the deal, while the underwriting team, lead by Goldman Sachs (GS) - Get Report, will have the option to buy an additional 397,500 shares at a $9.0189 discount to the $767 sale price.\n",
    "\n",
    "Tesla shares were marked 1% lower in early trading Friday following the pricing details,to changes hands at $796.16  each. \n",
    "\n",
    "Musk told investors on Tesla's Q4 earnings call on January 29 that Tesla was \"spending money I think efficiently and we're not artificially limiting our progress. And then despite all that we are still generating positive cash.\"\n",
    "\n",
    "\"So in light of that, it doesn't make sense to raise money because we expect to generate cash despite this growth level,\" he added. \"Diluting the company to pay down debt doesn't sound like a wise move.\"\n",
    "\n",
    "Tesla shares, however, rose from $567 to a record high $968.98 each following the group's fourth quarter earnings, which rose 10.9% from the same period last year to $2.06 per share, smashing the Street consensus forecast of $1.75. Group revenues also impressed, rising 2.1% to $7.38 billion and edged past analysts' estimates of a 7.05 billion tally.\n",
    "\n",
    "Execution has been a major part of Tesla's recent surge, with the Palo Alto, California-based carmaker topping he lower end of Wall Street forecasts for 2019 deliveries with a full-year tally of 367,500 units, lead by the sale of 92,500 Model 3s over the three months ending in December.\n",
    "\n",
    "\"We are not surprised by the capital raise considering co.'s ambitious growth plans, including a new factory in Germany and possible factory in Texas, in light of the stock's run-up and the fact it issued equity last May at $243/share,\" said Garrett Nelson, senior equity analyst at CFRA Research, who carries a \"sell\" rating on Tesla stock.\n",
    "\n",
    "\"Recent speed bumps including a coronavirus-related delay in vehicle deliveries from its new China factory and Model X recall likely factored into management's decision to proceed with the offering. Tesla also filed its 10-K today, in which it disclosed that it expects capex to average $2.5 billion to $3.5 billion annually in the 2020-22 period, up from prior guidance in its last 10-Q of $2.0 billion to $2.25 billion in the 2020-21 period, which should equate to weaker free cash flow than it has generated in recent quarters.\" \n",
    "\"\"\".lower().split(\". \")"
   ]
  },
  {
   "cell_type": "code",
   "execution_count": 157,
   "metadata": {},
   "outputs": [],
   "source": [
    "for c,text in enumerate(TESLA_TEXT):\n",
    "    \n",
    "    TESLA_TEXT[c] = ' '.join([word for word in text.split() if word not in STOPWORDS]).replace(\"(\",\"\").replace(\")\",\"\").replace(\"-\",\"\").replace(\",\",\"\")"
   ]
  },
  {
   "cell_type": "code",
   "execution_count": 163,
   "metadata": {},
   "outputs": [
    {
     "data": {
      "text/plain": [
       "\"tesla tsla  get report priced $2 billion stock offering 21% discount stock's recent alltime high move seeks capitalize rally that's added nearly 50% company's market value past month\""
      ]
     },
     "execution_count": 163,
     "metadata": {},
     "output_type": "execute_result"
    }
   ],
   "source": [
    "TESLA_TEXT[0]"
   ]
  },
  {
   "cell_type": "code",
   "execution_count": null,
   "metadata": {},
   "outputs": [],
   "source": []
  }
 ],
 "metadata": {
  "kernelspec": {
   "display_name": "Python 3",
   "language": "python",
   "name": "python3"
  },
  "language_info": {
   "codemirror_mode": {
    "name": "ipython",
    "version": 3
   },
   "file_extension": ".py",
   "mimetype": "text/x-python",
   "name": "python",
   "nbconvert_exporter": "python",
   "pygments_lexer": "ipython3",
   "version": "3.7.3"
  }
 },
 "nbformat": 4,
 "nbformat_minor": 2
}
