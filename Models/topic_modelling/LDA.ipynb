{
 "cells": [
  {
   "cell_type": "code",
   "execution_count": 1,
   "metadata": {},
   "outputs": [],
   "source": [
    "### Running LDA analysis on summarized (condensed) text generated from articles."
   ]
  },
  {
   "cell_type": "code",
   "execution_count": 2,
   "metadata": {},
   "outputs": [],
   "source": [
    "import gensim\n",
    "from gensim.utils import simple_preprocess\n",
    "from gensim.parsing.preprocessing import STOPWORDS\n",
    "from nltk.stem import WordNetLemmatizer, SnowballStemmer\n",
    "from nltk.stem.porter import *\n",
    "import numpy as np\n",
    "np.random.seed(1729)\n",
    "import nltk\n",
    "import pandas as pd\n",
    "from nltk.corpus import stopwords"
   ]
  },
  {
   "cell_type": "code",
   "execution_count": 3,
   "metadata": {},
   "outputs": [],
   "source": [
    "ORIGINAL_TEXT = [\"In fact, Tesla CEO Elon Musk said in April that Autopilot can help reduce accidents by as much as 50%.\\n\\nBut just like any system, it's not perfect\",\n",
    " '\\n\\nHowever, it should be noted that these sensors can be thrown off by things like debris covering them',\n",
    " \"These sensors help the car understand its environment so that it can safely steer itself in most highway situations.\\nThe hardware that makes up Tesla's self-driving system includes a forward radar, a forward-looking camera, a high-precision digitally-controlled electric assist braking system, and 12 long-range ultrasonic sensors placed around the car\",\n",
    " \"\\n\\nOn Thursday, regulators revealed an investigation into a possible tie between Tesla's Autopilot system and a fatal accident.\\n\\nWhile few details about the collision have been revealed, Tesla has said that the car was in Autopilot mode when the car crashed.\\n\\nHere's a closer look at how Autopilot works to help you better understand how it should be used.\\nTesla's Autopilot system is made up of multiple sensors placed all around the car\",\n",
    " '\\n\\n\\nThese ultrasonic sensors are strategically placed around the car so that they can sense 16 feet around the car in every direction, at any speed.\\nThe senors enable the vehicle to sense when something is too close and gauge the appropriate distance so that it can do things like safely change lanes',\n",
    " 'And it requires a human to pay attention at all times',\n",
    " '\\n\\nThe radar enables detection of cars and other moving objects.\\nThe forward-facing camera is located on the top windshield',\n",
    " \"\\n    It's been shown time and time again to help people avoid accidents\"]"
   ]
  },
  {
   "cell_type": "code",
   "execution_count": 4,
   "metadata": {},
   "outputs": [],
   "source": [
    "def pre_process_text(ORIGINAL_TEXT):\n",
    "    \"\"\"Polishes text\"\"\"\n",
    "    STOPWORDS = set(stopwords.words('english'))\n",
    "    STOPWORDS.add(\"-\")\n",
    "    frp = []\n",
    "    for i, c in enumerate(ORIGINAL_TEXT):\n",
    "        reg = c.lower()\n",
    "        reg = ' '.join(reg)\n",
    "        reg = ' '.join([word for word in c.split() if word not in STOPWORDS])\n",
    "        reg = re.sub('[^a-zA-Z]', ' ', reg)\n",
    "        reg = re.sub(r'\\s+', ' ', reg)\n",
    "        frp.append(reg)\n",
    "    return frp"
   ]
  },
  {
   "cell_type": "code",
   "execution_count": 5,
   "metadata": {},
   "outputs": [],
   "source": [
    "POLISHED_TEXT = pre_process_text(ORIGINAL_TEXT)"
   ]
  },
  {
   "cell_type": "code",
   "execution_count": 6,
   "metadata": {},
   "outputs": [
    {
     "data": {
      "text/plain": [
       "['In fact Tesla CEO Elon Musk said April Autopilot help reduce accidents much But like system perfect',\n",
       " 'However noted sensors thrown things like debris covering',\n",
       " 'These sensors help car understand environment safely steer highway situations The hardware makes Tesla s self driving system includes forward radar forward looking camera high precision digitally controlled electric assist braking system long range ultrasonic sensors placed around car',\n",
       " 'On Thursday regulators revealed investigation possible tie Tesla s Autopilot system fatal accident While details collision revealed Tesla said car Autopilot mode car crashed Here s closer look Autopilot works help better understand used Tesla s Autopilot system made multiple sensors placed around car',\n",
       " 'These ultrasonic sensors strategically placed around car sense feet around car every direction speed The senors enable vehicle sense something close gauge appropriate distance things like safely change lanes',\n",
       " 'And requires human pay attention times',\n",
       " 'The radar enables detection cars moving objects The forward facing camera located top windshield',\n",
       " 'It s shown time time help people avoid accidents']"
      ]
     },
     "execution_count": 6,
     "metadata": {},
     "output_type": "execute_result"
    }
   ],
   "source": [
    "POLISHED_TEXT"
   ]
  },
  {
   "cell_type": "code",
   "execution_count": 7,
   "metadata": {},
   "outputs": [],
   "source": [
    "#Incorporating stemming instead of lemmatization because of performance and speed."
   ]
  },
  {
   "cell_type": "code",
   "execution_count": 8,
   "metadata": {},
   "outputs": [],
   "source": [
    "stemmer = SnowballStemmer('english')"
   ]
  },
  {
   "cell_type": "code",
   "execution_count": 9,
   "metadata": {},
   "outputs": [],
   "source": [
    "def lemmatize_stemming(text):\n",
    "    return stemmer.stem(WordNetLemmatizer().lemmatize(text, pos='v'))\n",
    "\n",
    "def preprocess(text):\n",
    "    result = []\n",
    "    for token in gensim.utils.simple_preprocess(text):\n",
    "        if token not in gensim.parsing.preprocessing.STOPWORDS and len(token) > 3:\n",
    "            result.append(token)\n",
    "    return result"
   ]
  },
  {
   "cell_type": "code",
   "execution_count": 10,
   "metadata": {},
   "outputs": [],
   "source": [
    "lemmantized = list(pd.Series(ORIGINAL_TEXT).map(preprocess))"
   ]
  },
  {
   "cell_type": "code",
   "execution_count": 11,
   "metadata": {},
   "outputs": [],
   "source": [
    "dictionary = gensim.corpora.Dictionary(lemmantized)\n",
    "dictionary.filter_tokens()"
   ]
  },
  {
   "cell_type": "code",
   "execution_count": 12,
   "metadata": {},
   "outputs": [],
   "source": [
    "def generate_frequencies(sentence):\n",
    "    \"\"\"\n",
    "    Generates Frequencies and Occurances of words from a sentence:\n",
    "    1. Parameters : sentence (lemmantized version of the sentence, in list type).\n",
    "    2. Returns : \n",
    "        A. TDM (pandas Series object)\n",
    "        B. DataFrame (pandas TDM representation)\n",
    "    \"\"\"\n",
    "    occurance = {}\n",
    "    frequency = {}\n",
    "    for i, word in enumerate(sentence):\n",
    "        if word not in frequency.keys():\n",
    "            frequency[word] = 1\n",
    "        else:\n",
    "            frequency[word] += 1\n",
    "    max_word_frequency = max(frequency.values())\n",
    "    for word in frequency.keys():\n",
    "        occurance[word] = frequency[word] / max_word_frequency\n",
    "    df = pd.DataFrame(data=[list(frequency.keys()), list(frequency.values()), list(occurance.values())]).T\n",
    "    df.columns = ['Word', 'Occurance', 'Frequency']\n",
    "    return df, frequency, occurance"
   ]
  },
  {
   "cell_type": "code",
   "execution_count": 13,
   "metadata": {},
   "outputs": [],
   "source": [
    "def generate_tf_idf(paragraph):\n",
    "    tf_idf = []\n",
    "    for i, lem in enumerate(paragraph):\n",
    "        pd_df, frequency_words, occurance_words = generate_frequencies(lem)\n",
    "        temp = []\n",
    "        for occur, freq in zip(frequency_words.values(), occurance_words.values()):\n",
    "            temp.append(freq * np.log10(len(ORIGINAL_TEXT)/occur))\n",
    "        tf_idf.append(temp)\n",
    "    return tf_idf"
   ]
  },
  {
   "cell_type": "code",
   "execution_count": 14,
   "metadata": {},
   "outputs": [],
   "source": [
    "### TD-IDF generation"
   ]
  },
  {
   "cell_type": "code",
   "execution_count": 15,
   "metadata": {
    "scrolled": true
   },
   "outputs": [],
   "source": [
    "tf_idf = generate_tf_idf(lemmantized)"
   ]
  },
  {
   "cell_type": "code",
   "execution_count": null,
   "metadata": {},
   "outputs": [],
   "source": []
  },
  {
   "cell_type": "code",
   "execution_count": 16,
   "metadata": {},
   "outputs": [],
   "source": [
    "from gensim.test.utils import common_texts\n",
    "from gensim.corpora.dictionary import Dictionary\n",
    "\n",
    "# Create a corpus from a list of texts\n",
    "common_dictionary = Dictionary(common_texts)\n",
    "lemmy_BOW = [dictionary.doc2bow(text) for text in lemmantized]"
   ]
  },
  {
   "cell_type": "code",
   "execution_count": 29,
   "metadata": {},
   "outputs": [],
   "source": [
    "lda_model = gensim.models.LdaMulticore(lemmy_BOW, minimum_probability=15, num_topics=10, id2word=dictionary, passes=3, workers=3)"
   ]
  },
  {
   "cell_type": "code",
   "execution_count": 30,
   "metadata": {},
   "outputs": [
    {
     "name": "stdout",
     "output_type": "stream",
     "text": [
      "Topic: 0 \n",
      "Words: 0.070*\"sense\" + 0.037*\"senors\" + 0.037*\"vehicle\" + 0.037*\"feet\" + 0.037*\"direction\" + 0.037*\"gauge\" + 0.037*\"placed\" + 0.037*\"enable\" + 0.037*\"sensors\" + 0.037*\"close\"\n",
      "Topic: 1 \n",
      "Words: 0.104*\"autopilot\" + 0.080*\"tesla\" + 0.053*\"revealed\" + 0.030*\"sensors\" + 0.029*\"placed\" + 0.029*\"understand\" + 0.029*\"help\" + 0.028*\"collision\" + 0.028*\"closer\" + 0.028*\"investigation\"\n",
      "Topic: 2 \n",
      "Words: 0.052*\"forward\" + 0.052*\"sensors\" + 0.028*\"driving\" + 0.028*\"hardware\" + 0.027*\"high\" + 0.027*\"includes\" + 0.027*\"makes\" + 0.027*\"ultrasonic\" + 0.027*\"precision\" + 0.027*\"long\"\n",
      "Topic: 3 \n",
      "Words: 0.011*\"human\" + 0.011*\"help\" + 0.011*\"like\" + 0.011*\"sensors\" + 0.011*\"times\" + 0.011*\"accidents\" + 0.011*\"autopilot\" + 0.011*\"requires\" + 0.011*\"things\" + 0.011*\"tesla\"\n",
      "Topic: 4 \n",
      "Words: 0.011*\"human\" + 0.011*\"like\" + 0.011*\"help\" + 0.011*\"requires\" + 0.011*\"accidents\" + 0.011*\"sensors\" + 0.011*\"time\" + 0.011*\"autopilot\" + 0.011*\"times\" + 0.011*\"things\"\n",
      "Topic: 5 \n",
      "Words: 0.011*\"help\" + 0.011*\"like\" + 0.011*\"times\" + 0.011*\"human\" + 0.011*\"requires\" + 0.011*\"sensors\" + 0.011*\"accidents\" + 0.011*\"autopilot\" + 0.011*\"time\" + 0.011*\"attention\"\n",
      "Topic: 6 \n",
      "Words: 0.055*\"radar\" + 0.055*\"camera\" + 0.055*\"enables\" + 0.055*\"moving\" + 0.055*\"cars\" + 0.055*\"facing\" + 0.055*\"forward\" + 0.055*\"objects\" + 0.055*\"detection\" + 0.055*\"windshield\"\n",
      "Topic: 7 \n",
      "Words: 0.052*\"help\" + 0.052*\"accidents\" + 0.052*\"like\" + 0.052*\"said\" + 0.052*\"fact\" + 0.052*\"elon\" + 0.052*\"reduce\" + 0.052*\"perfect\" + 0.052*\"april\" + 0.052*\"musk\"\n",
      "Topic: 8 \n",
      "Words: 0.014*\"sense\" + 0.014*\"distance\" + 0.013*\"ultrasonic\" + 0.013*\"appropriate\" + 0.013*\"speed\" + 0.013*\"sensors\" + 0.013*\"strategically\" + 0.012*\"like\" + 0.012*\"safely\" + 0.012*\"lanes\"\n",
      "Topic: 9 \n",
      "Words: 0.078*\"time\" + 0.041*\"shown\" + 0.041*\"people\" + 0.041*\"thrown\" + 0.041*\"debris\" + 0.041*\"avoid\" + 0.041*\"noted\" + 0.041*\"covering\" + 0.041*\"things\" + 0.041*\"attention\"\n"
     ]
    }
   ],
   "source": [
    "for idx, topic in lda_model.print_topics(-1):\n",
    "    print('Topic: {} \\nWords: {}'.format(idx, topic))"
   ]
  },
  {
   "cell_type": "code",
   "execution_count": null,
   "metadata": {},
   "outputs": [],
   "source": []
  },
  {
   "cell_type": "code",
   "execution_count": null,
   "metadata": {},
   "outputs": [],
   "source": []
  }
 ],
 "metadata": {
  "kernelspec": {
   "display_name": "Python 3",
   "language": "python",
   "name": "python3"
  },
  "language_info": {
   "codemirror_mode": {
    "name": "ipython",
    "version": 3
   },
   "file_extension": ".py",
   "mimetype": "text/x-python",
   "name": "python",
   "nbconvert_exporter": "python",
   "pygments_lexer": "ipython3",
   "version": "3.7.3"
  }
 },
 "nbformat": 4,
 "nbformat_minor": 2
}
