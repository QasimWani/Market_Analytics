{
 "cells": [
  {
   "cell_type": "code",
   "execution_count": 1,
   "metadata": {},
   "outputs": [],
   "source": [
    "### Running LDA analysis on summarized (condensed) text generated from articles."
   ]
  },
  {
   "cell_type": "code",
   "execution_count": 2,
   "metadata": {},
   "outputs": [],
   "source": [
    "import gensim\n",
    "from gensim.utils import simple_preprocess\n",
    "from gensim.parsing.preprocessing import STOPWORDS\n",
    "from nltk.stem import WordNetLemmatizer, SnowballStemmer\n",
    "from nltk.stem.porter import *\n",
    "import numpy as np\n",
    "np.random.seed(1729)\n",
    "import nltk\n",
    "import pandas as pd\n",
    "from nltk.corpus import stopwords"
   ]
  },
  {
   "cell_type": "code",
   "execution_count": 3,
   "metadata": {},
   "outputs": [],
   "source": [
    "ORIGINAL_TEXT = ['It can take up to 15 seconds of laser fire to bring down a UAV or destroy its camera',\n",
    " 'This was not a sudden development but has been going on for most of the last decade',\n",
    " 'In 2010 the navy successfully tested this new laser weapon, which is actually six solid-state lasers acting in unison, to destroy a small UAV',\n",
    " 'In 2013 another test was run, under more realistic conditions',\n",
    " '\\nIsrael claims a breakthrough in the development of lasers that can be used to intercept mortar shells, UAVs and rockets',\n",
    " 'Most objects fired at Israel end up landing in unoccupied areas and the few objects that are dangerous are intercepted by missiles',\n",
    " 'Fire control systems for quickly, accurately and repeatedly aiming a laser have already been developed',\n",
    " 'Navy system already installed on one warship for several years and about to be installed on several more',\n",
    " 'This was crucial because knocking down UAVs is not something that the navy needs help with',\n",
    " 'It never worked, at least not in a practical sense',\n",
    " 'Even if ALT worked flawlessly it did not have enough energy to hit a launching missile from a safe (from enemy fire) distance',\n",
    " 'This has proved very effective.\\n\\nLaser Dome is described as using a solid-state electric laser at an effective range of 5,000 meters',\n",
    " 'Laser Dome combines multiple laser beams to obtain a useful amount of laser power at longer ranges',\n",
    " 'In 2018 LaWAS was moved to a large amphibious ship for continued testing and two more LaWAS are being built, for delivery and installation on two more ships in 2020',\n",
    " 'Army CLWS (Compact Laser Weapon System) which is currently only capable of handling UAVs',\n",
    " 'This is the tech that Laser Dome claims to have improved enough to destroy UAVs with one shot and at longer ranges.\\n\\nAnother example is a U.S',\n",
    " 'The manufacturer convinced the navy that it was just a matter of tweaking the technology to get the needed effectiveness',\n",
    " 'But the ability to do enough damage to disable boats or missiles that are over two kilometers distant meant the LaWS was worth mounting on a warship.\\n\\nLaWS may yet prove incapable of working under combat conditions, but so far this new development has kept passing tests',\n",
    " 'But in heaver sand storms performance was much reduced',\n",
    " 'In other words, LaWAS is still a work in progress.\\n\\nSuch was not the case with an earlier research effort using chemical lasers']"
   ]
  },
  {
   "cell_type": "code",
   "execution_count": 4,
   "metadata": {},
   "outputs": [],
   "source": [
    "def pre_process_text(ORIGINAL_TEXT):\n",
    "    \"\"\"Polishes text\"\"\"\n",
    "    STOPWORDS = set(stopwords.words('english'))\n",
    "    STOPWORDS.add(\"-\")\n",
    "    STOPWORDS.add(\"like\")\n",
    "    STOPWORDS.add(\"said\")\n",
    "    STOPWORDS.add(\"forward\")\n",
    "    STOPWORDS.add(\"time\")\n",
    "    frp = []\n",
    "    for i, c in enumerate(ORIGINAL_TEXT):\n",
    "        reg = c.lower()\n",
    "        reg = ' '.join(reg)\n",
    "        reg = ' '.join([word for word in c.split() if word not in STOPWORDS])\n",
    "        reg = re.sub('[^a-zA-Z]', ' ', reg)\n",
    "        reg = re.sub(r'\\s+', ' ', reg)\n",
    "        frp.append(reg)\n",
    "    return frp"
   ]
  },
  {
   "cell_type": "code",
   "execution_count": 5,
   "metadata": {},
   "outputs": [],
   "source": [
    "POLISHED_TEXT = pre_process_text(ORIGINAL_TEXT)"
   ]
  },
  {
   "cell_type": "code",
   "execution_count": 6,
   "metadata": {},
   "outputs": [
    {
     "data": {
      "text/plain": [
       "['It take seconds laser fire bring UAV destroy camera',\n",
       " 'This sudden development going last decade',\n",
       " 'In navy successfully tested new laser weapon actually six solid state lasers acting unison destroy small UAV',\n",
       " 'In another test run realistic conditions',\n",
       " 'Israel claims breakthrough development lasers used intercept mortar shells UAVs rockets',\n",
       " 'Most objects fired Israel end landing unoccupied areas objects dangerous intercepted missiles',\n",
       " 'Fire control systems quickly accurately repeatedly aiming laser already developed',\n",
       " 'Navy system already installed one warship several years installed several',\n",
       " 'This crucial knocking UAVs something navy needs help',\n",
       " 'It never worked least practical sense',\n",
       " 'Even ALT worked flawlessly enough energy hit launching missile safe from enemy fire distance',\n",
       " 'This proved effective Laser Dome described using solid state electric laser effective range meters',\n",
       " 'Laser Dome combines multiple laser beams obtain useful amount laser power longer ranges',\n",
       " 'In LaWAS moved large amphibious ship continued testing two LaWAS built delivery installation two ships ',\n",
       " 'Army CLWS Compact Laser Weapon System currently capable handling UAVs',\n",
       " 'This tech Laser Dome claims improved enough destroy UAVs one shot longer ranges Another example U S',\n",
       " 'The manufacturer convinced navy matter tweaking technology get needed effectiveness',\n",
       " 'But ability enough damage disable boats missiles two kilometers distant meant LaWS worth mounting warship LaWS may yet prove incapable working combat conditions far new development kept passing tests',\n",
       " 'But heaver sand storms performance much reduced',\n",
       " 'In words LaWAS still work progress Such case earlier research effort using chemical lasers']"
      ]
     },
     "execution_count": 6,
     "metadata": {},
     "output_type": "execute_result"
    }
   ],
   "source": [
    "POLISHED_TEXT"
   ]
  },
  {
   "cell_type": "code",
   "execution_count": 7,
   "metadata": {},
   "outputs": [],
   "source": [
    "#Incorporating stemming instead of lemmatization because of performance and speed."
   ]
  },
  {
   "cell_type": "code",
   "execution_count": 8,
   "metadata": {},
   "outputs": [],
   "source": [
    "stemmer = SnowballStemmer('english')"
   ]
  },
  {
   "cell_type": "code",
   "execution_count": 9,
   "metadata": {},
   "outputs": [],
   "source": [
    "def lemmatize_stemming(text):\n",
    "    return stemmer.stem(WordNetLemmatizer().lemmatize(text, pos='v'))\n",
    "\n",
    "def preprocess(text):\n",
    "    result = []\n",
    "    for token in gensim.utils.simple_preprocess(text):\n",
    "        if token not in gensim.parsing.preprocessing.STOPWORDS and len(token) > 3:\n",
    "            result.append(token)\n",
    "    return result"
   ]
  },
  {
   "cell_type": "code",
   "execution_count": 10,
   "metadata": {},
   "outputs": [],
   "source": [
    "lemmantized = list(pd.Series(POLISHED_TEXT).map(preprocess))"
   ]
  },
  {
   "cell_type": "code",
   "execution_count": 11,
   "metadata": {},
   "outputs": [],
   "source": [
    "dictionary = gensim.corpora.Dictionary(lemmantized)\n",
    "dictionary.filter_tokens()"
   ]
  },
  {
   "cell_type": "code",
   "execution_count": 12,
   "metadata": {},
   "outputs": [],
   "source": [
    "def generate_frequencies(sentence):\n",
    "    \"\"\"\n",
    "    Generates Frequencies and Occurances of words from a sentence:\n",
    "    1. Parameters : sentence (lemmantized version of the sentence, in list type).\n",
    "    2. Returns : \n",
    "        A. TDM (pandas Series object)\n",
    "        B. DataFrame (pandas TDM representation)\n",
    "    \"\"\"\n",
    "    occurance = {}\n",
    "    frequency = {}\n",
    "    for i, word in enumerate(sentence):\n",
    "        if word not in frequency.keys():\n",
    "            frequency[word] = 1\n",
    "        else:\n",
    "            frequency[word] += 1\n",
    "    max_word_frequency = max(frequency.values())\n",
    "    for word in frequency.keys():\n",
    "        occurance[word] = frequency[word] / max_word_frequency\n",
    "    df = pd.DataFrame(data=[list(frequency.keys()), list(frequency.values()), list(occurance.values())]).T\n",
    "    df.columns = ['Word', 'Occurance', 'Frequency']\n",
    "    return df, frequency, occurance"
   ]
  },
  {
   "cell_type": "code",
   "execution_count": 13,
   "metadata": {},
   "outputs": [],
   "source": [
    "def generate_tf_idf(paragraph):\n",
    "    tf_idf = []\n",
    "    for i, lem in enumerate(paragraph):\n",
    "        pd_df, frequency_words, occurance_words = generate_frequencies(lem)\n",
    "        temp = []\n",
    "        for occur, freq in zip(frequency_words.values(), occurance_words.values()):\n",
    "            temp.append(freq * np.log10(len(ORIGINAL_TEXT)/occur))\n",
    "        tf_idf.append(temp)\n",
    "    return tf_idf"
   ]
  },
  {
   "cell_type": "code",
   "execution_count": 14,
   "metadata": {},
   "outputs": [],
   "source": [
    "### TD-IDF generation"
   ]
  },
  {
   "cell_type": "code",
   "execution_count": 15,
   "metadata": {
    "scrolled": true
   },
   "outputs": [],
   "source": [
    "tf_idf = generate_tf_idf(lemmantized)"
   ]
  },
  {
   "cell_type": "code",
   "execution_count": null,
   "metadata": {},
   "outputs": [],
   "source": []
  },
  {
   "cell_type": "code",
   "execution_count": 16,
   "metadata": {},
   "outputs": [],
   "source": [
    "from gensim.test.utils import common_texts\n",
    "from gensim.corpora.dictionary import Dictionary\n",
    "\n",
    "# Create a corpus from a list of texts\n",
    "common_dictionary = Dictionary(common_texts)\n",
    "lemmy_BOW = [dictionary.doc2bow(text) for text in lemmantized]"
   ]
  },
  {
   "cell_type": "code",
   "execution_count": 17,
   "metadata": {},
   "outputs": [],
   "source": [
    "from gensim import corpora, models\n",
    "\n",
    "tfidf = models.TfidfModel(lemmy_BOW)"
   ]
  },
  {
   "cell_type": "code",
   "execution_count": 18,
   "metadata": {},
   "outputs": [],
   "source": [
    "corpus_tfidf = tfidf[lemmy_BOW]"
   ]
  },
  {
   "cell_type": "code",
   "execution_count": 19,
   "metadata": {},
   "outputs": [],
   "source": [
    "lda_model_tfidf = gensim.models.LdaMulticore(corpus_tfidf, num_topics=3, id2word=dictionary, passes=2, workers=3)"
   ]
  },
  {
   "cell_type": "code",
   "execution_count": 20,
   "metadata": {},
   "outputs": [
    {
     "name": "stdout",
     "output_type": "stream",
     "text": [
      "Topic: 0 \n",
      "Word: 0.015*\"destroy\" + 0.014*\"seconds\" + 0.014*\"bring\" + 0.014*\"camera\" + 0.013*\"lawas\" + 0.013*\"navy\" + 0.013*\"help\" + 0.013*\"needs\" + 0.013*\"knocking\" + 0.013*\"uavs\"\n",
      "Topic: 1 \n",
      "Word: 0.017*\"laser\" + 0.015*\"practical\" + 0.015*\"sense\" + 0.015*\"effective\" + 0.015*\"objects\" + 0.013*\"worked\" + 0.012*\"dome\" + 0.011*\"repeatedly\" + 0.011*\"developed\" + 0.011*\"quickly\"\n",
      "Topic: 2 \n",
      "Word: 0.016*\"installed\" + 0.015*\"development\" + 0.014*\"conditions\" + 0.013*\"realistic\" + 0.013*\"test\" + 0.012*\"weapon\" + 0.012*\"sudden\" + 0.012*\"decade\" + 0.012*\"going\" + 0.012*\"warship\"\n"
     ]
    }
   ],
   "source": [
    "for idx, topic in lda_model_tfidf.print_topics(-1):\n",
    "    print('Topic: {} \\nWord: {}'.format(idx, topic))"
   ]
  },
  {
   "cell_type": "code",
   "execution_count": 21,
   "metadata": {},
   "outputs": [],
   "source": [
    "lda_model = gensim.models.LdaMulticore(lemmy_BOW, minimum_probability=0.2, num_topics=5, id2word=dictionary, passes=3, workers=3)"
   ]
  },
  {
   "cell_type": "code",
   "execution_count": 22,
   "metadata": {
    "scrolled": true
   },
   "outputs": [
    {
     "name": "stdout",
     "output_type": "stream",
     "text": [
      "Topic: 0 \n",
      "Words: 0.058*\"laser\" + 0.030*\"installed\" + 0.030*\"navy\" + 0.017*\"worked\" + 0.017*\"longer\" + 0.017*\"flawlessly\" + 0.017*\"convinced\" + 0.017*\"launching\" + 0.017*\"ranges\" + 0.017*\"matter\"\n",
      "Topic: 1 \n",
      "Words: 0.040*\"lasers\" + 0.022*\"navy\" + 0.022*\"destroy\" + 0.022*\"solid\" + 0.022*\"state\" + 0.022*\"acting\" + 0.022*\"actually\" + 0.022*\"small\" + 0.022*\"tested\" + 0.022*\"successfully\"\n",
      "Topic: 2 \n",
      "Words: 0.053*\"laser\" + 0.029*\"uavs\" + 0.029*\"destroy\" + 0.029*\"capable\" + 0.029*\"weapon\" + 0.029*\"army\" + 0.029*\"handling\" + 0.029*\"clws\" + 0.029*\"compact\" + 0.029*\"currently\"\n",
      "Topic: 3 \n",
      "Words: 0.041*\"uavs\" + 0.041*\"israel\" + 0.040*\"objects\" + 0.023*\"crucial\" + 0.023*\"knocking\" + 0.023*\"needs\" + 0.023*\"help\" + 0.023*\"navy\" + 0.023*\"breakthrough\" + 0.023*\"rockets\"\n",
      "Topic: 4 \n",
      "Words: 0.035*\"laser\" + 0.024*\"dome\" + 0.024*\"laws\" + 0.024*\"lawas\" + 0.024*\"effective\" + 0.024*\"conditions\" + 0.014*\"missiles\" + 0.013*\"claims\" + 0.013*\"development\" + 0.013*\"uavs\"\n"
     ]
    }
   ],
   "source": [
    "for idx, topic in lda_model.print_topics(-1):\n",
    "    print('Topic: {} \\nWords: {}'.format(idx, topic))"
   ]
  },
  {
   "cell_type": "code",
   "execution_count": null,
   "metadata": {},
   "outputs": [],
   "source": []
  },
  {
   "cell_type": "code",
   "execution_count": null,
   "metadata": {},
   "outputs": [],
   "source": []
  },
  {
   "cell_type": "code",
   "execution_count": null,
   "metadata": {},
   "outputs": [],
   "source": []
  }
 ],
 "metadata": {
  "kernelspec": {
   "display_name": "Python 3",
   "language": "python",
   "name": "python3"
  },
  "language_info": {
   "codemirror_mode": {
    "name": "ipython",
    "version": 3
   },
   "file_extension": ".py",
   "mimetype": "text/x-python",
   "name": "python",
   "nbconvert_exporter": "python",
   "pygments_lexer": "ipython3",
   "version": "3.7.3"
  }
 },
 "nbformat": 4,
 "nbformat_minor": 2
}
