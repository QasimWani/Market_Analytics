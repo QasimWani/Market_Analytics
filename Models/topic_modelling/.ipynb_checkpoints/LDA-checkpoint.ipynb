{
 "cells": [
  {
   "cell_type": "code",
   "execution_count": 1,
   "metadata": {},
   "outputs": [],
   "source": [
    "### Running LDA analysis on summarized (condensed) text generated from articles."
   ]
  },
  {
   "cell_type": "code",
   "execution_count": 2,
   "metadata": {},
   "outputs": [],
   "source": [
    "import gensim\n",
    "from gensim.utils import simple_preprocess\n",
    "from gensim.parsing.preprocessing import STOPWORDS\n",
    "from nltk.stem import WordNetLemmatizer, SnowballStemmer\n",
    "from nltk.stem.porter import *\n",
    "import numpy as np\n",
    "np.random.seed(1729)\n",
    "import nltk\n",
    "import pandas as pd\n",
    "from nltk.corpus import stopwords"
   ]
  },
  {
   "cell_type": "code",
   "execution_count": 3,
   "metadata": {},
   "outputs": [],
   "source": [
    "ORIGINAL_TEXT = [\"In fact, Tesla CEO Elon Musk said in April that Autopilot can help reduce accidents by as much as 50%.\\n\\nBut just like any system, it's not perfect\",\n",
    " '\\n\\nHowever, it should be noted that these sensors can be thrown off by things like debris covering them',\n",
    " \"These sensors help the car understand its environment so that it can safely steer itself in most highway situations.\\nThe hardware that makes up Tesla's self-driving system includes a forward radar, a forward-looking camera, a high-precision digitally-controlled electric assist braking system, and 12 long-range ultrasonic sensors placed around the car\",\n",
    " \"\\n\\nOn Thursday, regulators revealed an investigation into a possible tie between Tesla's Autopilot system and a fatal accident.\\n\\nWhile few details about the collision have been revealed, Tesla has said that the car was in Autopilot mode when the car crashed.\\n\\nHere's a closer look at how Autopilot works to help you better understand how it should be used.\\nTesla's Autopilot system is made up of multiple sensors placed all around the car\",\n",
    " '\\n\\n\\nThese ultrasonic sensors are strategically placed around the car so that they can sense 16 feet around the car in every direction, at any speed.\\nThe senors enable the vehicle to sense when something is too close and gauge the appropriate distance so that it can do things like safely change lanes',\n",
    " 'And it requires a human to pay attention at all times',\n",
    " '\\n\\nThe radar enables detection of cars and other moving objects.\\nThe forward-facing camera is located on the top windshield',\n",
    " \"\\n    It's been shown time and time again to help people avoid accidents\"]"
   ]
  },
  {
   "cell_type": "code",
   "execution_count": 4,
   "metadata": {},
   "outputs": [],
   "source": [
    "def pre_process_text(ORIGINAL_TEXT):\n",
    "    \"\"\"Polishes text\"\"\"\n",
    "    STOPWORDS = set(stopwords.words('english'))\n",
    "    STOPWORDS.add(\"-\")\n",
    "    frp = []\n",
    "    for i, c in enumerate(ORIGINAL_TEXT):\n",
    "        reg = c.lower()\n",
    "        reg = ' '.join(reg)\n",
    "        reg = ' '.join([word for word in c.split() if word not in STOPWORDS])\n",
    "        reg = re.sub('[^a-zA-Z]', ' ', reg)\n",
    "        reg = re.sub(r'\\s+', ' ', reg)\n",
    "        frp.append(reg)\n",
    "    return frp"
   ]
  },
  {
   "cell_type": "code",
   "execution_count": 5,
   "metadata": {},
   "outputs": [],
   "source": [
    "POLISHED_TEXT = pre_process_text(ORIGINAL_TEXT)"
   ]
  },
  {
   "cell_type": "code",
   "execution_count": 6,
   "metadata": {},
   "outputs": [
    {
     "data": {
      "text/plain": [
       "['In fact Tesla CEO Elon Musk said April Autopilot help reduce accidents much But like system perfect',\n",
       " 'However noted sensors thrown things like debris covering',\n",
       " 'These sensors help car understand environment safely steer highway situations The hardware makes Tesla s self driving system includes forward radar forward looking camera high precision digitally controlled electric assist braking system long range ultrasonic sensors placed around car',\n",
       " 'On Thursday regulators revealed investigation possible tie Tesla s Autopilot system fatal accident While details collision revealed Tesla said car Autopilot mode car crashed Here s closer look Autopilot works help better understand used Tesla s Autopilot system made multiple sensors placed around car',\n",
       " 'These ultrasonic sensors strategically placed around car sense feet around car every direction speed The senors enable vehicle sense something close gauge appropriate distance things like safely change lanes',\n",
       " 'And requires human pay attention times',\n",
       " 'The radar enables detection cars moving objects The forward facing camera located top windshield',\n",
       " 'It s shown time time help people avoid accidents']"
      ]
     },
     "execution_count": 6,
     "metadata": {},
     "output_type": "execute_result"
    }
   ],
   "source": [
    "POLISHED_TEXT"
   ]
  },
  {
   "cell_type": "code",
   "execution_count": 7,
   "metadata": {},
   "outputs": [],
   "source": [
    "#Incorporating stemming instead of lemmatization because of performance and speed."
   ]
  },
  {
   "cell_type": "code",
   "execution_count": 8,
   "metadata": {},
   "outputs": [],
   "source": [
    "stemmer = SnowballStemmer('english')"
   ]
  },
  {
   "cell_type": "code",
   "execution_count": 9,
   "metadata": {},
   "outputs": [],
   "source": [
    "def lemmatize_stemming(text):\n",
    "    return stemmer.stem(WordNetLemmatizer().lemmatize(text, pos='v'))\n",
    "\n",
    "def preprocess(text):\n",
    "    result = []\n",
    "    for token in gensim.utils.simple_preprocess(text):\n",
    "        if token not in gensim.parsing.preprocessing.STOPWORDS and len(token) > 3:\n",
    "            result.append(token)\n",
    "    return result"
   ]
  },
  {
   "cell_type": "code",
   "execution_count": 10,
   "metadata": {},
   "outputs": [],
   "source": [
    "lemmantized = list(pd.Series(ORIGINAL_TEXT).map(preprocess))"
   ]
  },
  {
   "cell_type": "code",
   "execution_count": 11,
   "metadata": {},
   "outputs": [],
   "source": [
    "dictionary = gensim.corpora.Dictionary(lemmantized)\n",
    "dictionary.filter_tokens()"
   ]
  },
  {
   "cell_type": "code",
   "execution_count": 12,
   "metadata": {},
   "outputs": [],
   "source": [
    "def generate_frequencies(sentence):\n",
    "    \"\"\"\n",
    "    Generates Frequencies and Occurances of words from a sentence:\n",
    "    1. Parameters : sentence (lemmantized version of the sentence, in list type).\n",
    "    2. Returns : \n",
    "        A. TDM (pandas Series object)\n",
    "        B. DataFrame (pandas TDM representation)\n",
    "    \"\"\"\n",
    "    occurance = {}\n",
    "    frequency = {}\n",
    "    for i, word in enumerate(sentence):\n",
    "        if word not in frequency.keys():\n",
    "            frequency[word] = 1\n",
    "        else:\n",
    "            frequency[word] += 1\n",
    "    max_word_frequency = max(frequency.values())\n",
    "    for word in frequency.keys():\n",
    "        occurance[word] = frequency[word] / max_word_frequency\n",
    "    df = pd.DataFrame(data=[list(frequency.keys()), list(frequency.values()), list(occurance.values())]).T\n",
    "    df.columns = ['Word', 'Occurance', 'Frequency']\n",
    "    return df, frequency, occurance"
   ]
  },
  {
   "cell_type": "code",
   "execution_count": 13,
   "metadata": {},
   "outputs": [],
   "source": [
    "def generate_tf_idf(paragraph):\n",
    "    tf_idf = []\n",
    "    for i, lem in enumerate(paragraph):\n",
    "        pd_df, frequency_words, occurance_words = generate_frequencies(lem)\n",
    "        temp = []\n",
    "        for occur, freq in zip(frequency_words.values(), occurance_words.values()):\n",
    "            temp.append(freq * np.log10(len(ORIGINAL_TEXT)/occur))\n",
    "        tf_idf.append(temp)\n",
    "    return tf_idf"
   ]
  },
  {
   "cell_type": "code",
   "execution_count": 14,
   "metadata": {},
   "outputs": [],
   "source": [
    "### TD-IDF generation"
   ]
  },
  {
   "cell_type": "code",
   "execution_count": 15,
   "metadata": {
    "scrolled": true
   },
   "outputs": [],
   "source": [
    "tf_idf = generate_tf_idf(lemmantized)"
   ]
  },
  {
   "cell_type": "code",
   "execution_count": null,
   "metadata": {},
   "outputs": [],
   "source": []
  },
  {
   "cell_type": "code",
   "execution_count": 16,
   "metadata": {},
   "outputs": [],
   "source": [
    "from gensim.test.utils import common_texts\n",
    "from gensim.corpora.dictionary import Dictionary\n",
    "\n",
    "# Create a corpus from a list of texts\n",
    "common_dictionary = Dictionary(common_texts)\n",
    "lemmy_BOW = [dictionary.doc2bow(text) for text in lemmantized]"
   ]
  },
  {
   "cell_type": "code",
   "execution_count": 23,
   "metadata": {},
   "outputs": [
    {
     "ename": "SyntaxError",
     "evalue": "positional argument follows keyword argument (<ipython-input-23-ee39971b3be6>, line 1)",
     "output_type": "error",
     "traceback": [
      "\u001b[1;36m  File \u001b[1;32m\"<ipython-input-23-ee39971b3be6>\"\u001b[1;36m, line \u001b[1;32m1\u001b[0m\n\u001b[1;33m    lda_model = gensim.models.LdaMulticore(minimum_probability=0.1, lemmy_BOW, num_topics=10, id2word=dictionary, passes=3, workers=3)\u001b[0m\n\u001b[1;37m                                                                   ^\u001b[0m\n\u001b[1;31mSyntaxError\u001b[0m\u001b[1;31m:\u001b[0m positional argument follows keyword argument\n"
     ]
    }
   ],
   "source": [
    "lda_model = gensim.models.LdaMulticore(lemmy_BOW, minimum_probability=0.1, num_topics=10, id2word=dictionary, passes=3, workers=3)"
   ]
  },
  {
   "cell_type": "code",
   "execution_count": 24,
   "metadata": {},
   "outputs": [
    {
     "name": "stdout",
     "output_type": "stream",
     "text": [
      "Topic: 0 \n",
      "Words: 0.013*\"sensors\" + 0.013*\"placed\" + 0.012*\"ultrasonic\" + 0.012*\"forward\" + 0.012*\"makes\" + 0.012*\"safely\" + 0.012*\"precision\" + 0.012*\"situations\" + 0.012*\"high\" + 0.012*\"hardware\"\n",
      "Topic: 1 \n",
      "Words: 0.070*\"sense\" + 0.037*\"gauge\" + 0.037*\"things\" + 0.037*\"safely\" + 0.037*\"distance\" + 0.037*\"vehicle\" + 0.037*\"like\" + 0.037*\"speed\" + 0.037*\"change\" + 0.037*\"enable\"\n",
      "Topic: 2 \n",
      "Words: 0.011*\"time\" + 0.011*\"human\" + 0.011*\"sensors\" + 0.011*\"help\" + 0.011*\"attention\" + 0.011*\"like\" + 0.011*\"times\" + 0.011*\"requires\" + 0.011*\"autopilot\" + 0.011*\"accidents\"\n",
      "Topic: 3 \n",
      "Words: 0.052*\"sensors\" + 0.037*\"tesla\" + 0.036*\"help\" + 0.035*\"like\" + 0.035*\"forward\" + 0.021*\"autopilot\" + 0.019*\"said\" + 0.019*\"understand\" + 0.019*\"placed\" + 0.018*\"perfect\"\n",
      "Topic: 4 \n",
      "Words: 0.055*\"radar\" + 0.055*\"camera\" + 0.055*\"forward\" + 0.055*\"located\" + 0.055*\"cars\" + 0.055*\"objects\" + 0.055*\"moving\" + 0.055*\"detection\" + 0.055*\"facing\" + 0.055*\"windshield\"\n",
      "Topic: 5 \n",
      "Words: 0.011*\"time\" + 0.011*\"tesla\" + 0.011*\"human\" + 0.011*\"like\" + 0.011*\"sensors\" + 0.011*\"requires\" + 0.011*\"help\" + 0.011*\"autopilot\" + 0.011*\"attention\" + 0.011*\"things\"\n",
      "Topic: 6 \n",
      "Words: 0.096*\"autopilot\" + 0.073*\"tesla\" + 0.050*\"revealed\" + 0.027*\"times\" + 0.027*\"requires\" + 0.027*\"attention\" + 0.027*\"human\" + 0.026*\"closer\" + 0.026*\"crashed\" + 0.026*\"said\"\n",
      "Topic: 7 \n",
      "Words: 0.011*\"time\" + 0.011*\"sensors\" + 0.011*\"human\" + 0.011*\"like\" + 0.011*\"attention\" + 0.011*\"requires\" + 0.011*\"accidents\" + 0.011*\"help\" + 0.011*\"times\" + 0.011*\"things\"\n",
      "Topic: 8 \n",
      "Words: 0.011*\"time\" + 0.011*\"sensors\" + 0.011*\"human\" + 0.011*\"like\" + 0.011*\"help\" + 0.011*\"requires\" + 0.011*\"attention\" + 0.011*\"autopilot\" + 0.011*\"tesla\" + 0.011*\"times\"\n",
      "Topic: 9 \n",
      "Words: 0.131*\"time\" + 0.069*\"accidents\" + 0.069*\"help\" + 0.069*\"avoid\" + 0.069*\"shown\" + 0.069*\"people\" + 0.006*\"like\" + 0.006*\"human\" + 0.006*\"sensors\" + 0.006*\"autopilot\"\n"
     ]
    }
   ],
   "source": [
    "for idx, topic in lda_model.print_topics(-1):\n",
    "    print('Topic: {} \\nWords: {}'.format(idx, topic))"
   ]
  },
  {
   "cell_type": "code",
   "execution_count": null,
   "metadata": {},
   "outputs": [],
   "source": []
  },
  {
   "cell_type": "code",
   "execution_count": null,
   "metadata": {},
   "outputs": [],
   "source": []
  }
 ],
 "metadata": {
  "kernelspec": {
   "display_name": "Python 3",
   "language": "python",
   "name": "python3"
  },
  "language_info": {
   "codemirror_mode": {
    "name": "ipython",
    "version": 3
   },
   "file_extension": ".py",
   "mimetype": "text/x-python",
   "name": "python",
   "nbconvert_exporter": "python",
   "pygments_lexer": "ipython3",
   "version": "3.7.3"
  }
 },
 "nbformat": 4,
 "nbformat_minor": 2
}
